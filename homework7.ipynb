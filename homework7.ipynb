{
  "cells": [
    {
      "cell_type": "markdown",
      "id": "d0ca41e2",
      "metadata": {
        "id": "d0ca41e2"
      },
      "source": [
        "# Домашнее задание № 7"
      ]
    },
    {
      "cell_type": "markdown",
      "id": "6f0588a6",
      "metadata": {
        "id": "6f0588a6"
      },
      "source": [
        "### Задание 1 Реализовать алгоритм Леска и проверить его на реальном датасете (8 баллов)"
      ]
    },
    {
      "cell_type": "markdown",
      "id": "d6a5283f",
      "metadata": {
        "id": "d6a5283f"
      },
      "source": [
        "Ворднет можно использовать для дизамбигуации. Самый простой алгоритм дизамбигуации - алгоритм Леска. В нём нужное значение слова находится через пересечение слов контекста, в котором употреблено это слово, с определениями значений слова из ворднета. Значение с максимальным пересечением - нужное."
      ]
    },
    {
      "cell_type": "markdown",
      "id": "f6f082cd",
      "metadata": {
        "id": "f6f082cd"
      },
      "source": [
        "Реализуйте его"
      ]
    },
    {
      "cell_type": "code",
      "source": [
        "import nltk\n",
        "nltk.download('wordnet')"
      ],
      "metadata": {
        "colab": {
          "base_uri": "https://localhost:8080/"
        },
        "id": "opphuMVhKohl",
        "outputId": "fc5b0e42-a9ff-4d1c-ffb7-b887bf24278c"
      },
      "id": "opphuMVhKohl",
      "execution_count": 4,
      "outputs": [
        {
          "output_type": "stream",
          "name": "stdout",
          "text": [
            "[nltk_data] Downloading package wordnet to /root/nltk_data...\n",
            "[nltk_data]   Unzipping corpora/wordnet.zip.\n"
          ]
        },
        {
          "output_type": "execute_result",
          "data": {
            "text/plain": [
              "True"
            ]
          },
          "metadata": {},
          "execution_count": 4
        }
      ]
    },
    {
      "cell_type": "code",
      "source": [
        "nltk.download('punkt')"
      ],
      "metadata": {
        "colab": {
          "base_uri": "https://localhost:8080/"
        },
        "id": "cBxTUTbMF7WP",
        "outputId": "c2f6d6ab-fe1a-403a-9f0a-9f71857c0790"
      },
      "id": "cBxTUTbMF7WP",
      "execution_count": 17,
      "outputs": [
        {
          "output_type": "stream",
          "name": "stdout",
          "text": [
            "[nltk_data] Downloading package punkt to /root/nltk_data...\n",
            "[nltk_data]   Unzipping tokenizers/punkt.zip.\n"
          ]
        },
        {
          "output_type": "execute_result",
          "data": {
            "text/plain": [
              "True"
            ]
          },
          "metadata": {},
          "execution_count": 17
        }
      ]
    },
    {
      "cell_type": "code",
      "source": [
        "from nltk.tokenize import word_tokenize\n",
        "from nltk.corpus import wordnet as wn\n",
        "from string import punctuation"
      ],
      "metadata": {
        "id": "wN8IKV44Bu6i"
      },
      "id": "wN8IKV44Bu6i",
      "execution_count": 5,
      "outputs": []
    },
    {
      "cell_type": "code",
      "source": [
        "for s in wn.synsets('onion'):\n",
        "    print(s.definition())"
      ],
      "metadata": {
        "colab": {
          "base_uri": "https://localhost:8080/"
        },
        "id": "TjuBu0FuKjEs",
        "outputId": "dac24810-a77f-460c-e0c2-1eae1badcafd"
      },
      "id": "TjuBu0FuKjEs",
      "execution_count": 8,
      "outputs": [
        {
          "output_type": "stream",
          "name": "stdout",
          "text": [
            "the bulb of an onion plant\n",
            "bulbous plant having hollow leaves cultivated worldwide for its rounded edible bulb\n",
            "an aromatic flavorful vegetable\n"
          ]
        }
      ]
    },
    {
      "cell_type": "markdown",
      "source": [
        "Нашла идею с таким списком на просторах гитхаба, мне она показалась очень разумной:"
      ],
      "metadata": {
        "id": "qblhuYNkSd2I"
      },
      "id": "qblhuYNkSd2I"
    },
    {
      "cell_type": "code",
      "source": [
        "functionwords = ['about', 'across', 'against', 'along', 'around', 'at',\n",
        "                 'behind', 'beside', 'besides', 'by', 'despite', 'down',\n",
        "                 'during', 'for', 'from', 'in', 'inside', 'into', 'near', 'of',\n",
        "                 'off', 'on', 'onto', 'over', 'through', 'to', 'toward',\n",
        "                 'with', 'within', 'without', 'anything', 'everything',\n",
        "                 'anyone', 'everyone', 'ones', 'such', 'it', 'itself',\n",
        "                 'something', 'nothing', 'someone', 'the', 'some', 'this',\n",
        "                 'that', 'every', 'all', 'both', 'one', 'first', 'other',\n",
        "                 'next', 'many', 'much', 'more', 'most', 'several', 'no', 'a',\n",
        "                 'an', 'any', 'each', 'no', 'half', 'twice', 'two', 'second',\n",
        "                 'another', 'last', 'few', 'little', 'less', 'least', 'own',\n",
        "                 'and', 'but', 'after', 'when', 'as', 'because', 'if', 'what',\n",
        "                 'where', 'which', 'how', 'than', 'or', 'so', 'before', 'since',\n",
        "                 'while', 'although', 'though', 'who', 'whose', 'can', 'may',\n",
        "                 'will', 'shall', 'could', 'be', 'do', 'have', 'might', 'would',\n",
        "                 'should', 'must', 'here', 'there', 'now', 'then', 'always',\n",
        "                 'never', 'sometimes', 'usually', 'often', 'therefore',\n",
        "                 'however', 'besides', 'moreover', 'though', 'otherwise',\n",
        "                 'else', 'instead', 'anyway', 'incidentally', 'meanwhile']"
      ],
      "metadata": {
        "id": "1oSxRhtWSZUW"
      },
      "id": "1oSxRhtWSZUW",
      "execution_count": 93,
      "outputs": []
    },
    {
      "cell_type": "code",
      "execution_count": 104,
      "id": "668e6803",
      "metadata": {
        "id": "668e6803"
      },
      "outputs": [],
      "source": [
        "def lesk( word, sentence ):\n",
        "    \"\"\"Ваш код тут\"\"\"\n",
        "    bestsense = 0\n",
        "    maxoverlap = 0\n",
        "\n",
        "    synsets = wn.synsets(word)\n",
        "    for i, syns in enumerate(synsets):\n",
        "        # ваш код\n",
        "        definition = set([word for word in word_tokenize(syns.definition()) if word not in punctuation and word not in functionwords])\n",
        "        sentence = set([word for word in sentence if word not in punctuation and word not in functionwords])\n",
        "\n",
        "        overlap = len(definition.intersection(sentence))\n",
        "        if overlap > maxoverlap:\n",
        "                maxoverlap = overlap\n",
        "                bestsense = i\n",
        "        \n",
        "    return bestsense"
      ]
    },
    {
      "cell_type": "markdown",
      "id": "2f815be9",
      "metadata": {
        "id": "2f815be9"
      },
      "source": [
        "Работать функция должна как-то так:"
      ]
    },
    {
      "cell_type": "code",
      "source": [
        "lesk('day', 'some point or period in time'.split())"
      ],
      "metadata": {
        "colab": {
          "base_uri": "https://localhost:8080/"
        },
        "id": "EOJ49-8BKWcM",
        "outputId": "2f398804-f955-4a71-8b4d-a287b5c9fb3f"
      },
      "id": "EOJ49-8BKWcM",
      "execution_count": 26,
      "outputs": [
        {
          "output_type": "execute_result",
          "data": {
            "text/plain": [
              "1"
            ]
          },
          "metadata": {},
          "execution_count": 26
        }
      ]
    },
    {
      "cell_type": "code",
      "execution_count": 28,
      "id": "965d2dce",
      "metadata": {
        "id": "965d2dce",
        "outputId": "208bf693-1964-4825-82cc-a728fd338701",
        "colab": {
          "base_uri": "https://localhost:8080/"
        }
      },
      "outputs": [
        {
          "output_type": "execute_result",
          "data": {
            "text/plain": [
              "[Synset('day.n.01'),\n",
              " Synset('day.n.02'),\n",
              " Synset('day.n.03'),\n",
              " Synset('day.n.04'),\n",
              " Synset('day.n.05'),\n",
              " Synset('day.n.06'),\n",
              " Synset('day.n.07'),\n",
              " Synset('sidereal_day.n.01'),\n",
              " Synset('day.n.09'),\n",
              " Synset('day.n.10')]"
            ]
          },
          "metadata": {},
          "execution_count": 28
        }
      ],
      "source": [
        "wn.synsets('day')"
      ]
    },
    {
      "cell_type": "code",
      "execution_count": 29,
      "id": "204a4cb0",
      "metadata": {
        "id": "204a4cb0",
        "outputId": "78f4999b-ba3d-480e-a53c-c177e782e7ce",
        "colab": {
          "base_uri": "https://localhost:8080/",
          "height": 36
        }
      },
      "outputs": [
        {
          "output_type": "execute_result",
          "data": {
            "application/vnd.google.colaboratory.intrinsic+json": {
              "type": "string"
            },
            "text/plain": [
              "'some point or period in time'"
            ]
          },
          "metadata": {},
          "execution_count": 29
        }
      ],
      "source": [
        "# с помощью этого индекса достаем нужный синсет\n",
        "wn.synsets('day')[1].definition()"
      ]
    },
    {
      "cell_type": "markdown",
      "id": "d1a4309c",
      "metadata": {
        "id": "d1a4309c"
      },
      "source": [
        "**Проверьте насколько хорошо работает такой метод на датасете из семинара**"
      ]
    },
    {
      "cell_type": "code",
      "execution_count": 48,
      "id": "1aa7ae8f",
      "metadata": {
        "id": "1aa7ae8f"
      },
      "outputs": [],
      "source": [
        "corpus_wsd = []\n",
        "with open('corpus_wsd_50k.txt', encoding='utf-8') as f:\n",
        "    corpus = f.read().split('\\n\\n')\n",
        "for sent in corpus:\n",
        "    corpus_wsd.append([s.split('\\t') for s in sent.split('\\n')])"
      ]
    },
    {
      "cell_type": "markdown",
      "id": "ecf01fee",
      "metadata": {
        "id": "ecf01fee"
      },
      "source": [
        "Корпус состоит из предложений, где у каждого слова три поля - значение, лемма и само слово. Значение пустое, когда слово однозначное, а у многозначных слов стоит тэг вида **'long%3:00:02::'** Это тэг wordnet'ного формата"
      ]
    },
    {
      "cell_type": "code",
      "source": [
        "import numpy as np"
      ],
      "metadata": {
        "id": "MFFTI9lHN6Te"
      },
      "id": "MFFTI9lHN6Te",
      "execution_count": 56,
      "outputs": []
    },
    {
      "cell_type": "code",
      "execution_count": 57,
      "id": "a87b02c6",
      "metadata": {
        "id": "a87b02c6",
        "outputId": "e6830b6a-da28-4e95-f62b-1c077f872331",
        "colab": {
          "base_uri": "https://localhost:8080/"
        }
      },
      "outputs": [
        {
          "output_type": "execute_result",
          "data": {
            "text/plain": [
              "[['', 'how', 'How'],\n",
              " ['long%3:00:02::', 'long', 'long'],\n",
              " ['', 'have', 'has'],\n",
              " ['', 'it', 'it'],\n",
              " ['be%2:42:03::', 'be', 'been'],\n",
              " ['', 'since', 'since'],\n",
              " ['', 'you', 'you'],\n",
              " ['review%2:31:00::', 'review', 'reviewed'],\n",
              " ['', 'the', 'the'],\n",
              " ['objective%1:09:00::', 'objective', 'objectives'],\n",
              " ['', 'of', 'of'],\n",
              " ['', 'you', 'your'],\n",
              " ['benefit%1:21:00::', 'benefit', 'benefit'],\n",
              " ['', 'and', 'and'],\n",
              " ['service%1:04:07::', 'service', 'service'],\n",
              " ['program%1:09:01::', 'program', 'program'],\n",
              " ['', '?', '?']]"
            ]
          },
          "metadata": {},
          "execution_count": 57
        }
      ],
      "source": [
        "corpus_wsd[0]"
      ]
    },
    {
      "cell_type": "code",
      "source": [
        "arr_corpus_wsd = np.array([np.array(sent) for sent in corpus_wsd])"
      ],
      "metadata": {
        "colab": {
          "base_uri": "https://localhost:8080/"
        },
        "id": "7KV8Sn6RN-eO",
        "outputId": "0ecc6b25-e13f-404f-a87b-cfc0637ca3c5"
      },
      "id": "7KV8Sn6RN-eO",
      "execution_count": 61,
      "outputs": [
        {
          "output_type": "stream",
          "name": "stderr",
          "text": [
            "/usr/local/lib/python3.7/dist-packages/ipykernel_launcher.py:1: VisibleDeprecationWarning: Creating an ndarray from ragged nested sequences (which is a list-or-tuple of lists-or-tuples-or ndarrays with different lengths or shapes) is deprecated. If you meant to do this, you must specify 'dtype=object' when creating the ndarray\n",
            "  \"\"\"Entry point for launching an IPython kernel.\n"
          ]
        }
      ]
    },
    {
      "cell_type": "code",
      "source": [
        "arr_corpus_wsd[0][:,2]"
      ],
      "metadata": {
        "colab": {
          "base_uri": "https://localhost:8080/"
        },
        "id": "eIyud2z8OG9U",
        "outputId": "76373d90-6d9d-419a-9ed0-8de56ae78bb3"
      },
      "id": "eIyud2z8OG9U",
      "execution_count": 63,
      "outputs": [
        {
          "output_type": "execute_result",
          "data": {
            "text/plain": [
              "array(['How', 'long', 'has', 'it', 'been', 'since', 'you', 'reviewed',\n",
              "       'the', 'objectives', 'of', 'your', 'benefit', 'and', 'service',\n",
              "       'program', '?'], dtype='<U19')"
            ]
          },
          "metadata": {},
          "execution_count": 63
        }
      ]
    },
    {
      "cell_type": "markdown",
      "id": "9b11363d",
      "metadata": {
        "id": "9b11363d"
      },
      "source": [
        "Вот так можно достать соответствующий этому тэгу синсет:"
      ]
    },
    {
      "cell_type": "code",
      "execution_count": 50,
      "id": "f5fefa16",
      "metadata": {
        "id": "f5fefa16",
        "outputId": "d2b4b069-b9e9-494b-bf5c-1326c6b3fb6c",
        "colab": {
          "base_uri": "https://localhost:8080/"
        }
      },
      "outputs": [
        {
          "output_type": "execute_result",
          "data": {
            "text/plain": [
              "Synset('review.v.01')"
            ]
          },
          "metadata": {},
          "execution_count": 50
        }
      ],
      "source": [
        "wn.lemma_from_key('review%2:31:00::').synset()"
      ]
    },
    {
      "cell_type": "markdown",
      "id": "3bb068f3",
      "metadata": {
        "id": "3bb068f3"
      },
      "source": [
        "Когда с помощью алгоритма Леска вы найдете подходящее значение, их можно просто сравнить"
      ]
    },
    {
      "cell_type": "code",
      "execution_count": 51,
      "id": "b2bc390d",
      "metadata": {
        "id": "b2bc390d",
        "outputId": "61951318-e666-4b24-d88f-89363915c402",
        "colab": {
          "base_uri": "https://localhost:8080/"
        }
      },
      "outputs": [
        {
          "output_type": "execute_result",
          "data": {
            "text/plain": [
              "[Synset('hanker.v.01'),\n",
              " Synset('long.a.01'),\n",
              " Synset('long.a.02'),\n",
              " Synset('long.s.03'),\n",
              " Synset('retentive.a.01'),\n",
              " Synset('long.a.05'),\n",
              " Synset('long.a.06'),\n",
              " Synset('long.s.07'),\n",
              " Synset('farseeing.s.02'),\n",
              " Synset('long.s.09'),\n",
              " Synset('long.r.01'),\n",
              " Synset('long.r.02')]"
            ]
          },
          "metadata": {},
          "execution_count": 51
        }
      ],
      "source": [
        "wn.synsets('long')"
      ]
    },
    {
      "cell_type": "code",
      "execution_count": null,
      "id": "bd3cbf2d",
      "metadata": {
        "id": "bd3cbf2d",
        "outputId": "b62a610d-5f3e-4a77-c615-dd2e730cd9e7"
      },
      "outputs": [
        {
          "data": {
            "text/plain": [
              "True"
            ]
          },
          "execution_count": 226,
          "metadata": {},
          "output_type": "execute_result"
        }
      ],
      "source": [
        "# тут подходит второй синсет (!в вашем решении вместо индекса единицы будет результат работы функции lesk)\n",
        "wn.synsets('long')[1] == wn.lemma_from_key('long%3:00:02::').synset()"
      ]
    },
    {
      "cell_type": "code",
      "execution_count": null,
      "id": "eca9e9e6",
      "metadata": {
        "id": "eca9e9e6",
        "outputId": "7fced33c-14c9-449b-e187-5c8ff0a72133"
      },
      "outputs": [
        {
          "data": {
            "text/plain": [
              "[(Synset('hanker.v.01'), False),\n",
              " (Synset('long.a.01'), True),\n",
              " (Synset('long.a.02'), False),\n",
              " (Synset('long.s.03'), False),\n",
              " (Synset('retentive.a.01'), False),\n",
              " (Synset('long.a.05'), False),\n",
              " (Synset('long.a.06'), False),\n",
              " (Synset('long.s.07'), False),\n",
              " (Synset('farseeing.s.02'), False),\n",
              " (Synset('long.s.09'), False),\n",
              " (Synset('long.r.01'), False),\n",
              " (Synset('long.r.02'), False)]"
            ]
          },
          "execution_count": 227,
          "metadata": {},
          "output_type": "execute_result"
        }
      ],
      "source": [
        "# можно сравнить со всеми, чтобы убедиться\n",
        "[(syns, wn.synsets('long')[i] == wn.lemma_from_key('long%3:00:02::').synset()) \n",
        "    for i, syns in enumerate(wn.synsets('long'))]"
      ]
    },
    {
      "cell_type": "markdown",
      "id": "799b8806",
      "metadata": {
        "id": "799b8806"
      },
      "source": [
        "**Вам нужно для каждого многозначного слова (т.е. у него есть тэг в первом поле) с помощью алгоритма Леска предсказать нужный синсет и сравнить с правильным. Посчитайте процент правильных предсказаний (accuracy).**\n",
        "\n",
        "Если считается слишком долго, возьмите поменьше предложений (например, только тысячу)"
      ]
    },
    {
      "cell_type": "code",
      "source": [
        "from tqdm import tqdm"
      ],
      "metadata": {
        "id": "4jI4HjG0Ofg-"
      },
      "id": "4jI4HjG0Ofg-",
      "execution_count": 64,
      "outputs": []
    },
    {
      "cell_type": "code",
      "source": [
        "punctuation"
      ],
      "metadata": {
        "colab": {
          "base_uri": "https://localhost:8080/",
          "height": 36
        },
        "id": "R-D-A1fMQVD6",
        "outputId": "687b2a4b-b45a-4a65-8739-37c0cb28038a"
      },
      "id": "R-D-A1fMQVD6",
      "execution_count": 75,
      "outputs": [
        {
          "output_type": "execute_result",
          "data": {
            "application/vnd.google.colaboratory.intrinsic+json": {
              "type": "string"
            },
            "text/plain": [
              "'!\"#$%&\\'()*+,-./:;<=>?@[\\\\]^_`{|}~'"
            ]
          },
          "metadata": {},
          "execution_count": 75
        }
      ]
    },
    {
      "cell_type": "code",
      "source": [
        "ambiguous = 0\n",
        "guessed_right = 0\n",
        "\n",
        "for sentence in tqdm(arr_corpus_wsd[:5000]):\n",
        "    for word in sentence:\n",
        "        if word[0] != '' and word[0] not in punctuation:\n",
        "            ambiguous += 1\n",
        "            i = lesk(word[1], sentence[:,2].tolist())\n",
        "            if wn.synsets(word[1])[i] == wn.lemma_from_key(word[0]).synset():\n",
        "                guessed_right += 1\n"
      ],
      "metadata": {
        "colab": {
          "base_uri": "https://localhost:8080/"
        },
        "id": "vu40p1_QObb3",
        "outputId": "b449f93c-30ca-4957-aeea-c8c76ce6749b"
      },
      "id": "vu40p1_QObb3",
      "execution_count": 109,
      "outputs": [
        {
          "output_type": "stream",
          "name": "stderr",
          "text": [
            "100%|██████████| 5000/5000 [01:32<00:00, 53.85it/s]\n"
          ]
        }
      ]
    },
    {
      "cell_type": "code",
      "source": [
        "print('Accuracy:', guessed_right / ambiguous)"
      ],
      "metadata": {
        "colab": {
          "base_uri": "https://localhost:8080/"
        },
        "id": "dQX92bxkUfk7",
        "outputId": "9de9f407-5511-437e-b858-1b37e2ff790e"
      },
      "id": "dQX92bxkUfk7",
      "execution_count": 110,
      "outputs": [
        {
          "output_type": "stream",
          "name": "stdout",
          "text": [
            "Accuracy: 0.4483111566018424\n"
          ]
        }
      ]
    },
    {
      "cell_type": "markdown",
      "id": "c48b45d4",
      "metadata": {
        "id": "c48b45d4"
      },
      "source": [
        "### Задание 2* (2 балла)"
      ]
    },
    {
      "cell_type": "markdown",
      "id": "c57ef129",
      "metadata": {
        "id": "c57ef129"
      },
      "source": [
        "В семинаре для WSI на данных Диалога использовался только Fastext. Попробуйте заменить его на адаграм (обучите свою модель или используйте предобученную out.pkl или https://s3.amazonaws.com/kostia.lopuhin/all.a010.p10.d300.w5.m100.nonorm.slim.joblib), а также поэкспериментируйте с разными алгоритмами кластеризации и их параметрами (можно использовать только те алгоритмы, которые обучаются достаточно быстро)"
      ]
    },
    {
      "cell_type": "markdown",
      "id": "b89e5ea3",
      "metadata": {
        "id": "b89e5ea3"
      },
      "source": [
        "Для каждого эксперимента рассчитайте ARI"
      ]
    },
    {
      "cell_type": "code",
      "execution_count": null,
      "id": "1c17e25c",
      "metadata": {
        "id": "1c17e25c"
      },
      "outputs": [],
      "source": [
        ""
      ]
    }
  ],
  "metadata": {
    "kernelspec": {
      "display_name": "Python 3",
      "language": "python",
      "name": "python3"
    },
    "language_info": {
      "codemirror_mode": {
        "name": "ipython",
        "version": 3
      },
      "file_extension": ".py",
      "mimetype": "text/x-python",
      "name": "python",
      "nbconvert_exporter": "python",
      "pygments_lexer": "ipython3",
      "version": "3.7.2"
    },
    "colab": {
      "name": "homework7.ipynb",
      "provenance": []
    }
  },
  "nbformat": 4,
  "nbformat_minor": 5
}