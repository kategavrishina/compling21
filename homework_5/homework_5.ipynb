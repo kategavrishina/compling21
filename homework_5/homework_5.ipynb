{
  "cells": [
    {
      "cell_type": "markdown",
      "metadata": {
        "id": "092e5c0d"
      },
      "source": [
        "# Домашнее задание  № 5. Матричные разложения/Тематическое моделирование"
      ],
      "id": "092e5c0d"
    },
    {
      "cell_type": "markdown",
      "metadata": {
        "id": "f18446b7"
      },
      "source": [
        "### Задание № 1 (4 балла)"
      ],
      "id": "f18446b7"
    },
    {
      "cell_type": "code",
      "execution_count": 1,
      "metadata": {
        "colab": {
          "base_uri": "https://localhost:8080/"
        },
        "id": "e9aac2f2",
        "outputId": "ae5f0a82-62ca-4653-a32c-afd99dda0c21"
      },
      "outputs": [
        {
          "output_type": "stream",
          "name": "stdout",
          "text": [
            "Requirement already satisfied: gensim in /usr/local/lib/python3.7/dist-packages (3.6.0)\n",
            "Requirement already satisfied: six>=1.5.0 in /usr/local/lib/python3.7/dist-packages (from gensim) (1.15.0)\n",
            "Requirement already satisfied: numpy>=1.11.3 in /usr/local/lib/python3.7/dist-packages (from gensim) (1.21.5)\n",
            "Requirement already satisfied: smart-open>=1.2.1 in /usr/local/lib/python3.7/dist-packages (from gensim) (5.2.1)\n",
            "Requirement already satisfied: scipy>=0.18.1 in /usr/local/lib/python3.7/dist-packages (from gensim) (1.4.1)\n"
          ]
        }
      ],
      "source": [
        "! pip install gensim"
      ],
      "id": "e9aac2f2"
    },
    {
      "cell_type": "code",
      "execution_count": 2,
      "metadata": {
        "colab": {
          "base_uri": "https://localhost:8080/"
        },
        "id": "7a538765",
        "outputId": "59c70d1c-bdb8-41e3-a149-2ac9a02f4b04"
      },
      "outputs": [
        {
          "output_type": "stream",
          "name": "stdout",
          "text": [
            "Requirement already satisfied: pyLDAvis in /usr/local/lib/python3.7/dist-packages (3.3.1)\n",
            "Requirement already satisfied: numpy>=1.20.0 in /usr/local/lib/python3.7/dist-packages (from pyLDAvis) (1.21.5)\n",
            "Requirement already satisfied: funcy in /usr/local/lib/python3.7/dist-packages (from pyLDAvis) (1.17)\n",
            "Requirement already satisfied: pandas>=1.2.0 in /usr/local/lib/python3.7/dist-packages (from pyLDAvis) (1.3.5)\n",
            "Requirement already satisfied: gensim in /usr/local/lib/python3.7/dist-packages (from pyLDAvis) (3.6.0)\n",
            "Requirement already satisfied: sklearn in /usr/local/lib/python3.7/dist-packages (from pyLDAvis) (0.0)\n",
            "Requirement already satisfied: numexpr in /usr/local/lib/python3.7/dist-packages (from pyLDAvis) (2.8.1)\n",
            "Requirement already satisfied: joblib in /usr/local/lib/python3.7/dist-packages (from pyLDAvis) (1.1.0)\n",
            "Requirement already satisfied: scipy in /usr/local/lib/python3.7/dist-packages (from pyLDAvis) (1.4.1)\n",
            "Requirement already satisfied: jinja2 in /usr/local/lib/python3.7/dist-packages (from pyLDAvis) (2.11.3)\n",
            "Requirement already satisfied: scikit-learn in /usr/local/lib/python3.7/dist-packages (from pyLDAvis) (1.0.2)\n",
            "Requirement already satisfied: setuptools in /usr/local/lib/python3.7/dist-packages (from pyLDAvis) (57.4.0)\n",
            "Requirement already satisfied: future in /usr/local/lib/python3.7/dist-packages (from pyLDAvis) (0.16.0)\n",
            "Requirement already satisfied: python-dateutil>=2.7.3 in /usr/local/lib/python3.7/dist-packages (from pandas>=1.2.0->pyLDAvis) (2.8.2)\n",
            "Requirement already satisfied: pytz>=2017.3 in /usr/local/lib/python3.7/dist-packages (from pandas>=1.2.0->pyLDAvis) (2018.9)\n",
            "Requirement already satisfied: six>=1.5 in /usr/local/lib/python3.7/dist-packages (from python-dateutil>=2.7.3->pandas>=1.2.0->pyLDAvis) (1.15.0)\n",
            "Requirement already satisfied: smart-open>=1.2.1 in /usr/local/lib/python3.7/dist-packages (from gensim->pyLDAvis) (5.2.1)\n",
            "Requirement already satisfied: MarkupSafe>=0.23 in /usr/local/lib/python3.7/dist-packages (from jinja2->pyLDAvis) (2.0.1)\n",
            "Requirement already satisfied: packaging in /usr/local/lib/python3.7/dist-packages (from numexpr->pyLDAvis) (21.3)\n",
            "Requirement already satisfied: pyparsing!=3.0.5,>=2.0.2 in /usr/local/lib/python3.7/dist-packages (from packaging->numexpr->pyLDAvis) (3.0.6)\n",
            "Requirement already satisfied: threadpoolctl>=2.0.0 in /usr/local/lib/python3.7/dist-packages (from scikit-learn->pyLDAvis) (3.0.0)\n"
          ]
        }
      ],
      "source": [
        "! pip install pyLDAvis"
      ],
      "id": "7a538765"
    },
    {
      "cell_type": "code",
      "execution_count": 3,
      "metadata": {
        "colab": {
          "base_uri": "https://localhost:8080/"
        },
        "id": "f6fdcb6c",
        "outputId": "6198143a-9f4c-40f3-9661-0d0a2ac1ea10"
      },
      "outputs": [
        {
          "output_type": "stream",
          "name": "stdout",
          "text": [
            "Requirement already satisfied: pymorphy2 in /usr/local/lib/python3.7/dist-packages (0.9.1)\n",
            "Requirement already satisfied: docopt>=0.6 in /usr/local/lib/python3.7/dist-packages (from pymorphy2) (0.6.2)\n",
            "Requirement already satisfied: dawg-python>=0.7.1 in /usr/local/lib/python3.7/dist-packages (from pymorphy2) (0.7.2)\n",
            "Requirement already satisfied: pymorphy2-dicts-ru<3.0,>=2.4 in /usr/local/lib/python3.7/dist-packages (from pymorphy2) (2.4.417127.4579844)\n"
          ]
        }
      ],
      "source": [
        "! pip install pymorphy2"
      ],
      "id": "f6fdcb6c"
    },
    {
      "cell_type": "code",
      "execution_count": 4,
      "metadata": {
        "colab": {
          "base_uri": "https://localhost:8080/"
        },
        "id": "B3qW1COaNXH_",
        "outputId": "d102c3e4-5667-4ae3-9594-96fe2fe04b2f"
      },
      "outputs": [
        {
          "output_type": "stream",
          "name": "stdout",
          "text": [
            "Requirement already satisfied: razdel in /usr/local/lib/python3.7/dist-packages (0.5.0)\n"
          ]
        }
      ],
      "source": [
        "! pip install razdel"
      ],
      "id": "B3qW1COaNXH_"
    },
    {
      "cell_type": "code",
      "execution_count": 5,
      "metadata": {
        "colab": {
          "base_uri": "https://localhost:8080/"
        },
        "id": "ef6cf8d6",
        "outputId": "374382e6-c93e-48c5-9d62-decf12e403e5"
      },
      "outputs": [
        {
          "output_type": "stream",
          "name": "stderr",
          "text": [
            "/usr/local/lib/python3.7/dist-packages/past/types/oldstr.py:5: DeprecationWarning: Using or importing the ABCs from 'collections' instead of from 'collections.abc' is deprecated since Python 3.3,and in 3.9 it will stop working\n",
            "  from collections import Iterable\n",
            "/usr/local/lib/python3.7/dist-packages/pymorphy2/units/base.py:70: DeprecationWarning: inspect.getargspec() is deprecated since Python 3.0, use inspect.signature() or inspect.getfullargspec()\n",
            "  args, varargs, kw, default = inspect.getargspec(cls.__init__)\n",
            "/usr/local/lib/python3.7/dist-packages/pymorphy2/units/base.py:70: DeprecationWarning: inspect.getargspec() is deprecated since Python 3.0, use inspect.signature() or inspect.getfullargspec()\n",
            "  args, varargs, kw, default = inspect.getargspec(cls.__init__)\n",
            "/usr/local/lib/python3.7/dist-packages/pymorphy2/units/base.py:70: DeprecationWarning: inspect.getargspec() is deprecated since Python 3.0, use inspect.signature() or inspect.getfullargspec()\n",
            "  args, varargs, kw, default = inspect.getargspec(cls.__init__)\n",
            "/usr/local/lib/python3.7/dist-packages/pymorphy2/units/base.py:70: DeprecationWarning: inspect.getargspec() is deprecated since Python 3.0, use inspect.signature() or inspect.getfullargspec()\n",
            "  args, varargs, kw, default = inspect.getargspec(cls.__init__)\n",
            "/usr/local/lib/python3.7/dist-packages/pymorphy2/units/base.py:70: DeprecationWarning: inspect.getargspec() is deprecated since Python 3.0, use inspect.signature() or inspect.getfullargspec()\n",
            "  args, varargs, kw, default = inspect.getargspec(cls.__init__)\n",
            "/usr/local/lib/python3.7/dist-packages/pymorphy2/units/base.py:70: DeprecationWarning: inspect.getargspec() is deprecated since Python 3.0, use inspect.signature() or inspect.getfullargspec()\n",
            "  args, varargs, kw, default = inspect.getargspec(cls.__init__)\n",
            "/usr/local/lib/python3.7/dist-packages/pymorphy2/units/base.py:70: DeprecationWarning: inspect.getargspec() is deprecated since Python 3.0, use inspect.signature() or inspect.getfullargspec()\n",
            "  args, varargs, kw, default = inspect.getargspec(cls.__init__)\n",
            "/usr/local/lib/python3.7/dist-packages/pymorphy2/units/base.py:70: DeprecationWarning: inspect.getargspec() is deprecated since Python 3.0, use inspect.signature() or inspect.getfullargspec()\n",
            "  args, varargs, kw, default = inspect.getargspec(cls.__init__)\n",
            "/usr/local/lib/python3.7/dist-packages/pymorphy2/units/base.py:70: DeprecationWarning: inspect.getargspec() is deprecated since Python 3.0, use inspect.signature() or inspect.getfullargspec()\n",
            "  args, varargs, kw, default = inspect.getargspec(cls.__init__)\n",
            "/usr/local/lib/python3.7/dist-packages/pymorphy2/units/base.py:70: DeprecationWarning: inspect.getargspec() is deprecated since Python 3.0, use inspect.signature() or inspect.getfullargspec()\n",
            "  args, varargs, kw, default = inspect.getargspec(cls.__init__)\n",
            "/usr/local/lib/python3.7/dist-packages/pymorphy2/units/base.py:70: DeprecationWarning: inspect.getargspec() is deprecated since Python 3.0, use inspect.signature() or inspect.getfullargspec()\n",
            "  args, varargs, kw, default = inspect.getargspec(cls.__init__)\n",
            "/usr/local/lib/python3.7/dist-packages/pymorphy2/units/base.py:70: DeprecationWarning: inspect.getargspec() is deprecated since Python 3.0, use inspect.signature() or inspect.getfullargspec()\n",
            "  args, varargs, kw, default = inspect.getargspec(cls.__init__)\n"
          ]
        }
      ],
      "source": [
        "import gensim\n",
        "import pandas as pd\n",
        "import numpy as np\n",
        "from pymorphy2 import MorphAnalyzer\n",
        "import pyLDAvis.gensim_models\n",
        "from collections import Counter\n",
        "from string import punctuation\n",
        "from razdel import tokenize as razdel_tokenize\n",
        "from IPython.display import Image\n",
        "from IPython.core.display import HTML \n",
        "from sklearn.decomposition import TruncatedSVD, NMF, PCA, LatentDirichletAllocation\n",
        "from sklearn.manifold import TSNE\n",
        "from sklearn.feature_extraction.text import TfidfVectorizer, CountVectorizer, TfidfTransformer\n",
        "from sklearn.metrics.pairwise import cosine_distances\n",
        "from sklearn.ensemble import RandomForestClassifier, ExtraTreesClassifier\n",
        "from sklearn.linear_model import SGDClassifier\n",
        "from sklearn.neighbors import KNeighborsClassifier\n",
        "from sklearn.metrics import accuracy_score, precision_score, recall_score, f1_score, confusion_matrix\n",
        "from sklearn.pipeline import Pipeline\n",
        "from sklearn.model_selection import KFold, StratifiedKFold\n",
        "import warnings\n",
        "from matplotlib import pyplot as plt\n",
        "import seaborn as sns\n",
        "morph = MorphAnalyzer()\n",
        "warnings.filterwarnings(\"ignore\")"
      ],
      "id": "ef6cf8d6"
    },
    {
      "cell_type": "markdown",
      "metadata": {
        "id": "cf81eecc"
      },
      "source": [
        "Попробуйте матричные разложения с 4 классификаторами - SGDClassifier, KNeighborsClassifier,  RandomForest, ExtraTreesClassifier (про него подробнее почитайте в документации, он похож на RF). Используйте и NMF и SVD. Сравните результаты на кросс-валидации и выберите лучшее сочетание.\n",
        "\n",
        "В итоге у вас должно получиться, как минимум 8 моделей (два разложения на каждый классификатор). Используйте 1 и те же параметры кросс-валидации. Параметры векторизации, параметры K в матричных разложениях, параметры классификаторов могут быть разными между экспериментами."
      ],
      "id": "cf81eecc"
    },
    {
      "cell_type": "markdown",
      "metadata": {
        "id": "f1760960"
      },
      "source": [
        "Можете взять поменьше данных, если все будет обучаться слишком долго (не ставьте параметр K слишком большим в NMF, иначе точно будет слишком долго)"
      ],
      "id": "f1760960"
    },
    {
      "cell_type": "code",
      "execution_count": 6,
      "metadata": {
        "id": "9b84d8bd"
      },
      "outputs": [],
      "source": [
        "def normalize(text):\n",
        "    normalized_text = [word.text.strip(punctuation) for word \\\n",
        "                                                            in razdel_tokenize(text)]\n",
        "    normalized_text = [word.lower() for word in normalized_text if word and len(word) < 20 ]\n",
        "    normalized_text = [morph.parse(word)[0].normal_form for word in normalized_text]\n",
        "    return ' '.join(normalized_text)"
      ],
      "id": "9b84d8bd"
    },
    {
      "cell_type": "code",
      "execution_count": 7,
      "metadata": {
        "id": "283d4eb5"
      },
      "outputs": [],
      "source": [
        "data = pd.read_csv('category_classification.csv')"
      ],
      "id": "283d4eb5"
    },
    {
      "cell_type": "code",
      "execution_count": 8,
      "metadata": {
        "colab": {
          "base_uri": "https://localhost:8080/",
          "height": 423
        },
        "id": "30c731e3",
        "outputId": "b8e486b1-dace-4283-bb5e-bbe6af380003"
      },
      "outputs": [
        {
          "output_type": "execute_result",
          "data": {
            "text/html": [
              "\n",
              "  <div id=\"df-7670af1d-0ce9-4a52-9924-14241e1d1b70\">\n",
              "    <div class=\"colab-df-container\">\n",
              "      <div>\n",
              "<style scoped>\n",
              "    .dataframe tbody tr th:only-of-type {\n",
              "        vertical-align: middle;\n",
              "    }\n",
              "\n",
              "    .dataframe tbody tr th {\n",
              "        vertical-align: top;\n",
              "    }\n",
              "\n",
              "    .dataframe thead th {\n",
              "        text-align: right;\n",
              "    }\n",
              "</style>\n",
              "<table border=\"1\" class=\"dataframe\">\n",
              "  <thead>\n",
              "    <tr style=\"text-align: right;\">\n",
              "      <th></th>\n",
              "      <th>category_name</th>\n",
              "      <th>description</th>\n",
              "    </tr>\n",
              "  </thead>\n",
              "  <tbody>\n",
              "    <tr>\n",
              "      <th>0</th>\n",
              "      <td>Автомобили</td>\n",
              "      <td>отличное состояние,обслужиание в салоне</td>\n",
              "    </tr>\n",
              "    <tr>\n",
              "      <th>1</th>\n",
              "      <td>Детская одежда и обувь</td>\n",
              "      <td>В отличном состоянии. Фирма KIKO. Очень теплый...</td>\n",
              "    </tr>\n",
              "    <tr>\n",
              "      <th>2</th>\n",
              "      <td>Предложение услуг</td>\n",
              "      <td>Изготовление ограждений, перил,качелей, турник...</td>\n",
              "    </tr>\n",
              "    <tr>\n",
              "      <th>3</th>\n",
              "      <td>Автомобили</td>\n",
              "      <td>Автомобиль в отличном техническом состоянии. О...</td>\n",
              "    </tr>\n",
              "    <tr>\n",
              "      <th>4</th>\n",
              "      <td>Бытовая техника</td>\n",
              "      <td>Продается газовая плита \"Гефест\" (Белоруссия) ...</td>\n",
              "    </tr>\n",
              "    <tr>\n",
              "      <th>...</th>\n",
              "      <td>...</td>\n",
              "      <td>...</td>\n",
              "    </tr>\n",
              "    <tr>\n",
              "      <th>9893</th>\n",
              "      <td>Товары для детей и игрушки</td>\n",
              "      <td>Чтобы посмотреть весь ассортимент нашего магаз...</td>\n",
              "    </tr>\n",
              "    <tr>\n",
              "      <th>9894</th>\n",
              "      <td>Детская одежда и обувь</td>\n",
              "      <td>Весна,осень.74-80.вопросы можно в вайбер,двухс...</td>\n",
              "    </tr>\n",
              "    <tr>\n",
              "      <th>9895</th>\n",
              "      <td>Одежда, обувь, аксессуары</td>\n",
              "      <td>Кимоно Green Hill. Состояние  отличное,  рост ...</td>\n",
              "    </tr>\n",
              "    <tr>\n",
              "      <th>9896</th>\n",
              "      <td>Детская одежда и обувь</td>\n",
              "      <td>Б/у кроссовки на девочку. Носили только в спор...</td>\n",
              "    </tr>\n",
              "    <tr>\n",
              "      <th>9897</th>\n",
              "      <td>Бытовая техника</td>\n",
              "      <td>Холодильник на гарантии</td>\n",
              "    </tr>\n",
              "  </tbody>\n",
              "</table>\n",
              "<p>9898 rows × 2 columns</p>\n",
              "</div>\n",
              "      <button class=\"colab-df-convert\" onclick=\"convertToInteractive('df-7670af1d-0ce9-4a52-9924-14241e1d1b70')\"\n",
              "              title=\"Convert this dataframe to an interactive table.\"\n",
              "              style=\"display:none;\">\n",
              "        \n",
              "  <svg xmlns=\"http://www.w3.org/2000/svg\" height=\"24px\"viewBox=\"0 0 24 24\"\n",
              "       width=\"24px\">\n",
              "    <path d=\"M0 0h24v24H0V0z\" fill=\"none\"/>\n",
              "    <path d=\"M18.56 5.44l.94 2.06.94-2.06 2.06-.94-2.06-.94-.94-2.06-.94 2.06-2.06.94zm-11 1L8.5 8.5l.94-2.06 2.06-.94-2.06-.94L8.5 2.5l-.94 2.06-2.06.94zm10 10l.94 2.06.94-2.06 2.06-.94-2.06-.94-.94-2.06-.94 2.06-2.06.94z\"/><path d=\"M17.41 7.96l-1.37-1.37c-.4-.4-.92-.59-1.43-.59-.52 0-1.04.2-1.43.59L10.3 9.45l-7.72 7.72c-.78.78-.78 2.05 0 2.83L4 21.41c.39.39.9.59 1.41.59.51 0 1.02-.2 1.41-.59l7.78-7.78 2.81-2.81c.8-.78.8-2.07 0-2.86zM5.41 20L4 18.59l7.72-7.72 1.47 1.35L5.41 20z\"/>\n",
              "  </svg>\n",
              "      </button>\n",
              "      \n",
              "  <style>\n",
              "    .colab-df-container {\n",
              "      display:flex;\n",
              "      flex-wrap:wrap;\n",
              "      gap: 12px;\n",
              "    }\n",
              "\n",
              "    .colab-df-convert {\n",
              "      background-color: #E8F0FE;\n",
              "      border: none;\n",
              "      border-radius: 50%;\n",
              "      cursor: pointer;\n",
              "      display: none;\n",
              "      fill: #1967D2;\n",
              "      height: 32px;\n",
              "      padding: 0 0 0 0;\n",
              "      width: 32px;\n",
              "    }\n",
              "\n",
              "    .colab-df-convert:hover {\n",
              "      background-color: #E2EBFA;\n",
              "      box-shadow: 0px 1px 2px rgba(60, 64, 67, 0.3), 0px 1px 3px 1px rgba(60, 64, 67, 0.15);\n",
              "      fill: #174EA6;\n",
              "    }\n",
              "\n",
              "    [theme=dark] .colab-df-convert {\n",
              "      background-color: #3B4455;\n",
              "      fill: #D2E3FC;\n",
              "    }\n",
              "\n",
              "    [theme=dark] .colab-df-convert:hover {\n",
              "      background-color: #434B5C;\n",
              "      box-shadow: 0px 1px 3px 1px rgba(0, 0, 0, 0.15);\n",
              "      filter: drop-shadow(0px 1px 2px rgba(0, 0, 0, 0.3));\n",
              "      fill: #FFFFFF;\n",
              "    }\n",
              "  </style>\n",
              "\n",
              "      <script>\n",
              "        const buttonEl =\n",
              "          document.querySelector('#df-7670af1d-0ce9-4a52-9924-14241e1d1b70 button.colab-df-convert');\n",
              "        buttonEl.style.display =\n",
              "          google.colab.kernel.accessAllowed ? 'block' : 'none';\n",
              "\n",
              "        async function convertToInteractive(key) {\n",
              "          const element = document.querySelector('#df-7670af1d-0ce9-4a52-9924-14241e1d1b70');\n",
              "          const dataTable =\n",
              "            await google.colab.kernel.invokeFunction('convertToInteractive',\n",
              "                                                     [key], {});\n",
              "          if (!dataTable) return;\n",
              "\n",
              "          const docLinkHtml = 'Like what you see? Visit the ' +\n",
              "            '<a target=\"_blank\" href=https://colab.research.google.com/notebooks/data_table.ipynb>data table notebook</a>'\n",
              "            + ' to learn more about interactive tables.';\n",
              "          element.innerHTML = '';\n",
              "          dataTable['output_type'] = 'display_data';\n",
              "          await google.colab.output.renderOutput(dataTable, element);\n",
              "          const docLink = document.createElement('div');\n",
              "          docLink.innerHTML = docLinkHtml;\n",
              "          element.appendChild(docLink);\n",
              "        }\n",
              "      </script>\n",
              "    </div>\n",
              "  </div>\n",
              "  "
            ],
            "text/plain": [
              "                   category_name                                        description\n",
              "0                     Автомобили            отличное состояние,обслужиание в салоне\n",
              "1         Детская одежда и обувь  В отличном состоянии. Фирма KIKO. Очень теплый...\n",
              "2              Предложение услуг  Изготовление ограждений, перил,качелей, турник...\n",
              "3                     Автомобили  Автомобиль в отличном техническом состоянии. О...\n",
              "4                Бытовая техника  Продается газовая плита \"Гефест\" (Белоруссия) ...\n",
              "...                          ...                                                ...\n",
              "9893  Товары для детей и игрушки  Чтобы посмотреть весь ассортимент нашего магаз...\n",
              "9894      Детская одежда и обувь  Весна,осень.74-80.вопросы можно в вайбер,двухс...\n",
              "9895   Одежда, обувь, аксессуары  Кимоно Green Hill. Состояние  отличное,  рост ...\n",
              "9896      Детская одежда и обувь  Б/у кроссовки на девочку. Носили только в спор...\n",
              "9897             Бытовая техника                            Холодильник на гарантии\n",
              "\n",
              "[9898 rows x 2 columns]"
            ]
          },
          "metadata": {},
          "execution_count": 8
        }
      ],
      "source": [
        "data"
      ],
      "id": "30c731e3"
    },
    {
      "cell_type": "code",
      "execution_count": 9,
      "metadata": {
        "id": "90b5d7b9"
      },
      "outputs": [],
      "source": [
        "data['description_norm'] = data['description'].apply(normalize)"
      ],
      "id": "90b5d7b9"
    },
    {
      "cell_type": "code",
      "execution_count": 17,
      "metadata": {
        "id": "c452a2be"
      },
      "outputs": [],
      "source": [
        "pipeline_svd_rf = Pipeline([\n",
        "    ('bow', CountVectorizer(tokenizer=lambda x: x.split(), ngram_range=(1,2), min_df=5, max_df=0.4)),\n",
        "    ('svd', TruncatedSVD(500)),\n",
        "    ('clf', RandomForestClassifier(n_estimators=100, max_depth=10))\n",
        "])\n",
        "\n",
        "pipeline_svd_sgd = Pipeline([\n",
        "    ('bow', CountVectorizer(tokenizer=lambda x: x.split(), ngram_range=(1,2), min_df=5, max_df=0.4)),\n",
        "    ('svd', TruncatedSVD(500)),\n",
        "    ('clf', SGDClassifier(max_iter=500))\n",
        "])\n",
        "\n",
        "pipeline_svd_kn = Pipeline([\n",
        "    ('bow', CountVectorizer(tokenizer=lambda x: x.split(), ngram_range=(1,2), min_df=5, max_df=0.4)),\n",
        "    ('svd', TruncatedSVD(500)),\n",
        "    ('clf', KNeighborsClassifier(n_neighbors=3))\n",
        "])\n",
        "\n",
        "pipeline_svd_et = Pipeline([\n",
        "    ('bow', CountVectorizer(tokenizer=lambda x: x.split(), ngram_range=(1,2), min_df=5, max_df=0.4)),\n",
        "    ('svd', TruncatedSVD(500)),\n",
        "    ('clf', ExtraTreesClassifier(n_estimators=100))\n",
        "])\n",
        "\n",
        "pipeline_nmf_rf = Pipeline([\n",
        "    ('bow', CountVectorizer(tokenizer=lambda x: x.split(), min_df=3, max_df=0.3)),\n",
        "    ('tfidf', TfidfTransformer()),\n",
        "    ('decomposition', NMF(50)),\n",
        "    ('clf', RandomForestClassifier(n_estimators=200, max_depth=6))\n",
        "])\n",
        "\n",
        "pipeline_nmf_sgd = Pipeline([\n",
        "    ('bow', CountVectorizer(tokenizer=lambda x: x.split(), min_df=3, max_df=0.3)),\n",
        "    ('tfidf', TfidfTransformer()),\n",
        "    ('decomposition', NMF(50)),\n",
        "    ('clf', SGDClassifier(max_iter=500))\n",
        "])\n",
        "\n",
        "pipeline_nmf_kn = Pipeline([\n",
        "    ('bow', CountVectorizer(tokenizer=lambda x: x.split(), min_df=3, max_df=0.3)),\n",
        "    ('tfidf', TfidfTransformer()),\n",
        "    ('decomposition', NMF(50)),\n",
        "    ('clf', KNeighborsClassifier(n_neighbors=3))\n",
        "])\n",
        "\n",
        "pipeline_nmf_et = Pipeline([\n",
        "    ('bow', CountVectorizer(tokenizer=lambda x: x.split(), min_df=3, max_df=0.3)),\n",
        "    ('tfidf', TfidfTransformer()),\n",
        "    ('decomposition', NMF(50)),\n",
        "    ('clf', ExtraTreesClassifier(n_estimators=100))\n",
        "])"
      ],
      "id": "c452a2be"
    },
    {
      "cell_type": "code",
      "execution_count": 11,
      "metadata": {
        "id": "d9126b5b"
      },
      "outputs": [],
      "source": [
        "def eval_table(X, y, pipeline, N=6):\n",
        "    labels = list(set(y))\n",
        "    \n",
        "    fold_metrics = pd.DataFrame(index=labels)\n",
        "    errors = np.zeros((len(labels), len(labels)))\n",
        "    \n",
        "    kfold = StratifiedKFold(n_splits=N, shuffle=True, )\n",
        "    \n",
        "    for i, (train_index, test_index) in enumerate(kfold.split(X, y)):\n",
        "        pipeline.fit(X[train_index], y[train_index])\n",
        "        preds = pipeline.predict(X[test_index])\n",
        "        \n",
        "        fold_metrics[f'precision_{i}'] = precision_score(y[test_index], preds, labels=labels, average=None)\n",
        "        fold_metrics[f'recall_{i}'] = recall_score(y[test_index], preds, labels=labels, average=None)\n",
        "        fold_metrics[f'f1_{i}'] = f1_score(y[test_index], preds, labels=labels, average=None)\n",
        "        errors += confusion_matrix(y[test_index], preds, labels=labels, normalize='true')\n",
        "        \n",
        "    result = pd.DataFrame(index=labels)\n",
        "    result['precision'] = fold_metrics[[f'precision_{i}' for i in range(N)]].mean(axis=1).round(2)\n",
        "    result['precision_std'] = fold_metrics[[f'precision_{i}' for i in range(N)]].std(axis=1).round(2)\n",
        "    \n",
        "    result['recall'] = fold_metrics[[f'recall_{i}' for i in range(N)]].mean(axis=1).round(2)\n",
        "    result['recall_std'] = fold_metrics[[f'recall_{i}' for i in range(N)]].std(axis=1).round(2)\n",
        "    \n",
        "    result['f1'] = fold_metrics[[f'f1_{i}' for i in range(N)]].mean(axis=1).round(2)\n",
        "    result['f1_std'] = fold_metrics[[f'f1_{i}' for i in range(N)]].std(axis=1).round(2)\n",
        "\n",
        "    result.loc['mean'] = result.mean().round(2)\n",
        "\n",
        "    errors /= N\n",
        "    \n",
        "    return result, errors"
      ],
      "id": "d9126b5b"
    },
    {
      "cell_type": "code",
      "execution_count": 12,
      "metadata": {
        "id": "d3276c23"
      },
      "outputs": [],
      "source": [
        "metrics_svd_rf, errors_svd_rf = eval_table(data['description_norm'], data['category_name'], pipeline_svd_rf)"
      ],
      "id": "d3276c23"
    },
    {
      "cell_type": "code",
      "execution_count": 13,
      "metadata": {
        "id": "dc7349b6"
      },
      "outputs": [],
      "source": [
        "metrics_svd_sgd, errors_svd_sgd = eval_table(data['description_norm'], data['category_name'], pipeline_svd_sgd)"
      ],
      "id": "dc7349b6"
    },
    {
      "cell_type": "code",
      "execution_count": 14,
      "metadata": {
        "id": "3d2af41c"
      },
      "outputs": [],
      "source": [
        "metrics_svd_kn, errors_svd_kn = eval_table(data['description_norm'], data['category_name'], pipeline_svd_kn)"
      ],
      "id": "3d2af41c"
    },
    {
      "cell_type": "code",
      "execution_count": 15,
      "metadata": {
        "id": "58ee0c5b"
      },
      "outputs": [],
      "source": [
        "metrics_svd_et, errors_svd_et = eval_table(data['description_norm'], data['category_name'], pipeline_svd_et)"
      ],
      "id": "58ee0c5b"
    },
    {
      "cell_type": "code",
      "execution_count": 18,
      "metadata": {
        "id": "fa27b021"
      },
      "outputs": [],
      "source": [
        "metrics_nmf_rf, errors_nmf_rf = eval_table(data['description_norm'], data['category_name'], pipeline_nmf_rf)"
      ],
      "id": "fa27b021"
    },
    {
      "cell_type": "code",
      "execution_count": 19,
      "metadata": {
        "id": "c75af12a"
      },
      "outputs": [],
      "source": [
        "metrics_nmf_sgd, errors_nmf_sgd = eval_table(data['description_norm'], data['category_name'], pipeline_nmf_sgd)"
      ],
      "id": "c75af12a"
    },
    {
      "cell_type": "code",
      "execution_count": 20,
      "metadata": {
        "id": "c666fd2a"
      },
      "outputs": [],
      "source": [
        "metrics_nmf_kn, errors_nmf_kn = eval_table(data['description_norm'], data['category_name'], pipeline_nmf_kn)"
      ],
      "id": "c666fd2a"
    },
    {
      "cell_type": "code",
      "execution_count": 21,
      "metadata": {
        "id": "cefbce87"
      },
      "outputs": [],
      "source": [
        "metrics_nmf_et, errors_nmf_et = eval_table(data['description_norm'], data['category_name'], pipeline_nmf_et)"
      ],
      "id": "cefbce87"
    },
    {
      "cell_type": "code",
      "source": [
        "metrics_svd_rf"
      ],
      "metadata": {
        "colab": {
          "base_uri": "https://localhost:8080/",
          "height": 394
        },
        "id": "AT-tgkBAUXS0",
        "outputId": "6f60dce4-f355-4715-932e-3c1905b07248"
      },
      "id": "AT-tgkBAUXS0",
      "execution_count": 34,
      "outputs": [
        {
          "output_type": "execute_result",
          "data": {
            "text/html": [
              "\n",
              "  <div id=\"df-d5943559-15d4-418f-b1f0-ffc5a44184eb\">\n",
              "    <div class=\"colab-df-container\">\n",
              "      <div>\n",
              "<style scoped>\n",
              "    .dataframe tbody tr th:only-of-type {\n",
              "        vertical-align: middle;\n",
              "    }\n",
              "\n",
              "    .dataframe tbody tr th {\n",
              "        vertical-align: top;\n",
              "    }\n",
              "\n",
              "    .dataframe thead th {\n",
              "        text-align: right;\n",
              "    }\n",
              "</style>\n",
              "<table border=\"1\" class=\"dataframe\">\n",
              "  <thead>\n",
              "    <tr style=\"text-align: right;\">\n",
              "      <th></th>\n",
              "      <th>precision</th>\n",
              "      <th>precision_std</th>\n",
              "      <th>recall</th>\n",
              "      <th>recall_std</th>\n",
              "      <th>f1</th>\n",
              "      <th>f1_std</th>\n",
              "    </tr>\n",
              "  </thead>\n",
              "  <tbody>\n",
              "    <tr>\n",
              "      <th>Одежда, обувь, аксессуары</th>\n",
              "      <td>0.47</td>\n",
              "      <td>0.01</td>\n",
              "      <td>0.76</td>\n",
              "      <td>0.03</td>\n",
              "      <td>0.58</td>\n",
              "      <td>0.02</td>\n",
              "    </tr>\n",
              "    <tr>\n",
              "      <th>Мебель и интерьер</th>\n",
              "      <td>0.76</td>\n",
              "      <td>0.22</td>\n",
              "      <td>0.03</td>\n",
              "      <td>0.02</td>\n",
              "      <td>0.06</td>\n",
              "      <td>0.04</td>\n",
              "    </tr>\n",
              "    <tr>\n",
              "      <th>Телефоны</th>\n",
              "      <td>0.92</td>\n",
              "      <td>0.04</td>\n",
              "      <td>0.35</td>\n",
              "      <td>0.03</td>\n",
              "      <td>0.51</td>\n",
              "      <td>0.04</td>\n",
              "    </tr>\n",
              "    <tr>\n",
              "      <th>Детская одежда и обувь</th>\n",
              "      <td>0.45</td>\n",
              "      <td>0.02</td>\n",
              "      <td>0.69</td>\n",
              "      <td>0.02</td>\n",
              "      <td>0.54</td>\n",
              "      <td>0.02</td>\n",
              "    </tr>\n",
              "    <tr>\n",
              "      <th>Бытовая техника</th>\n",
              "      <td>0.79</td>\n",
              "      <td>0.40</td>\n",
              "      <td>0.04</td>\n",
              "      <td>0.03</td>\n",
              "      <td>0.08</td>\n",
              "      <td>0.05</td>\n",
              "    </tr>\n",
              "    <tr>\n",
              "      <th>Товары для детей и игрушки</th>\n",
              "      <td>0.80</td>\n",
              "      <td>0.07</td>\n",
              "      <td>0.18</td>\n",
              "      <td>0.03</td>\n",
              "      <td>0.29</td>\n",
              "      <td>0.04</td>\n",
              "    </tr>\n",
              "    <tr>\n",
              "      <th>Автомобили</th>\n",
              "      <td>0.89</td>\n",
              "      <td>0.04</td>\n",
              "      <td>0.57</td>\n",
              "      <td>0.04</td>\n",
              "      <td>0.69</td>\n",
              "      <td>0.02</td>\n",
              "    </tr>\n",
              "    <tr>\n",
              "      <th>Квартиры</th>\n",
              "      <td>0.87</td>\n",
              "      <td>0.03</td>\n",
              "      <td>0.89</td>\n",
              "      <td>0.02</td>\n",
              "      <td>0.88</td>\n",
              "      <td>0.02</td>\n",
              "    </tr>\n",
              "    <tr>\n",
              "      <th>Предложение услуг</th>\n",
              "      <td>0.73</td>\n",
              "      <td>0.06</td>\n",
              "      <td>0.53</td>\n",
              "      <td>0.10</td>\n",
              "      <td>0.61</td>\n",
              "      <td>0.08</td>\n",
              "    </tr>\n",
              "    <tr>\n",
              "      <th>Ремонт и строительство</th>\n",
              "      <td>0.74</td>\n",
              "      <td>0.10</td>\n",
              "      <td>0.10</td>\n",
              "      <td>0.04</td>\n",
              "      <td>0.17</td>\n",
              "      <td>0.05</td>\n",
              "    </tr>\n",
              "    <tr>\n",
              "      <th>mean</th>\n",
              "      <td>0.74</td>\n",
              "      <td>0.10</td>\n",
              "      <td>0.41</td>\n",
              "      <td>0.04</td>\n",
              "      <td>0.44</td>\n",
              "      <td>0.04</td>\n",
              "    </tr>\n",
              "  </tbody>\n",
              "</table>\n",
              "</div>\n",
              "      <button class=\"colab-df-convert\" onclick=\"convertToInteractive('df-d5943559-15d4-418f-b1f0-ffc5a44184eb')\"\n",
              "              title=\"Convert this dataframe to an interactive table.\"\n",
              "              style=\"display:none;\">\n",
              "        \n",
              "  <svg xmlns=\"http://www.w3.org/2000/svg\" height=\"24px\"viewBox=\"0 0 24 24\"\n",
              "       width=\"24px\">\n",
              "    <path d=\"M0 0h24v24H0V0z\" fill=\"none\"/>\n",
              "    <path d=\"M18.56 5.44l.94 2.06.94-2.06 2.06-.94-2.06-.94-.94-2.06-.94 2.06-2.06.94zm-11 1L8.5 8.5l.94-2.06 2.06-.94-2.06-.94L8.5 2.5l-.94 2.06-2.06.94zm10 10l.94 2.06.94-2.06 2.06-.94-2.06-.94-.94-2.06-.94 2.06-2.06.94z\"/><path d=\"M17.41 7.96l-1.37-1.37c-.4-.4-.92-.59-1.43-.59-.52 0-1.04.2-1.43.59L10.3 9.45l-7.72 7.72c-.78.78-.78 2.05 0 2.83L4 21.41c.39.39.9.59 1.41.59.51 0 1.02-.2 1.41-.59l7.78-7.78 2.81-2.81c.8-.78.8-2.07 0-2.86zM5.41 20L4 18.59l7.72-7.72 1.47 1.35L5.41 20z\"/>\n",
              "  </svg>\n",
              "      </button>\n",
              "      \n",
              "  <style>\n",
              "    .colab-df-container {\n",
              "      display:flex;\n",
              "      flex-wrap:wrap;\n",
              "      gap: 12px;\n",
              "    }\n",
              "\n",
              "    .colab-df-convert {\n",
              "      background-color: #E8F0FE;\n",
              "      border: none;\n",
              "      border-radius: 50%;\n",
              "      cursor: pointer;\n",
              "      display: none;\n",
              "      fill: #1967D2;\n",
              "      height: 32px;\n",
              "      padding: 0 0 0 0;\n",
              "      width: 32px;\n",
              "    }\n",
              "\n",
              "    .colab-df-convert:hover {\n",
              "      background-color: #E2EBFA;\n",
              "      box-shadow: 0px 1px 2px rgba(60, 64, 67, 0.3), 0px 1px 3px 1px rgba(60, 64, 67, 0.15);\n",
              "      fill: #174EA6;\n",
              "    }\n",
              "\n",
              "    [theme=dark] .colab-df-convert {\n",
              "      background-color: #3B4455;\n",
              "      fill: #D2E3FC;\n",
              "    }\n",
              "\n",
              "    [theme=dark] .colab-df-convert:hover {\n",
              "      background-color: #434B5C;\n",
              "      box-shadow: 0px 1px 3px 1px rgba(0, 0, 0, 0.15);\n",
              "      filter: drop-shadow(0px 1px 2px rgba(0, 0, 0, 0.3));\n",
              "      fill: #FFFFFF;\n",
              "    }\n",
              "  </style>\n",
              "\n",
              "      <script>\n",
              "        const buttonEl =\n",
              "          document.querySelector('#df-d5943559-15d4-418f-b1f0-ffc5a44184eb button.colab-df-convert');\n",
              "        buttonEl.style.display =\n",
              "          google.colab.kernel.accessAllowed ? 'block' : 'none';\n",
              "\n",
              "        async function convertToInteractive(key) {\n",
              "          const element = document.querySelector('#df-d5943559-15d4-418f-b1f0-ffc5a44184eb');\n",
              "          const dataTable =\n",
              "            await google.colab.kernel.invokeFunction('convertToInteractive',\n",
              "                                                     [key], {});\n",
              "          if (!dataTable) return;\n",
              "\n",
              "          const docLinkHtml = 'Like what you see? Visit the ' +\n",
              "            '<a target=\"_blank\" href=https://colab.research.google.com/notebooks/data_table.ipynb>data table notebook</a>'\n",
              "            + ' to learn more about interactive tables.';\n",
              "          element.innerHTML = '';\n",
              "          dataTable['output_type'] = 'display_data';\n",
              "          await google.colab.output.renderOutput(dataTable, element);\n",
              "          const docLink = document.createElement('div');\n",
              "          docLink.innerHTML = docLinkHtml;\n",
              "          element.appendChild(docLink);\n",
              "        }\n",
              "      </script>\n",
              "    </div>\n",
              "  </div>\n",
              "  "
            ],
            "text/plain": [
              "                            precision  precision_std  ...    f1  f1_std\n",
              "Одежда, обувь, аксессуары        0.47           0.01  ...  0.58    0.02\n",
              "Мебель и интерьер                0.76           0.22  ...  0.06    0.04\n",
              "Телефоны                         0.92           0.04  ...  0.51    0.04\n",
              "Детская одежда и обувь           0.45           0.02  ...  0.54    0.02\n",
              "Бытовая техника                  0.79           0.40  ...  0.08    0.05\n",
              "Товары для детей и игрушки       0.80           0.07  ...  0.29    0.04\n",
              "Автомобили                       0.89           0.04  ...  0.69    0.02\n",
              "Квартиры                         0.87           0.03  ...  0.88    0.02\n",
              "Предложение услуг                0.73           0.06  ...  0.61    0.08\n",
              "Ремонт и строительство           0.74           0.10  ...  0.17    0.05\n",
              "mean                             0.74           0.10  ...  0.44    0.04\n",
              "\n",
              "[11 rows x 6 columns]"
            ]
          },
          "metadata": {},
          "execution_count": 34
        }
      ]
    },
    {
      "cell_type": "code",
      "execution_count": 51,
      "metadata": {
        "id": "4c9478e9"
      },
      "outputs": [],
      "source": [
        "metrics = pd.DataFrame(columns=metrics_svd_rf.columns)\n",
        "metrics = metrics.append(metrics_svd_rf.loc['mean'])\n",
        "metrics = metrics.append(metrics_svd_sgd.loc['mean'])\n",
        "metrics = metrics.append(metrics_svd_kn.loc['mean'])\n",
        "metrics = metrics.append(metrics_svd_et.loc['mean'])\n",
        "metrics = metrics.append(metrics_nmf_rf.loc['mean'])\n",
        "metrics = metrics.append(metrics_nmf_sgd.loc['mean'])\n",
        "metrics = metrics.append(metrics_nmf_kn.loc['mean'])\n",
        "metrics = metrics.append(metrics_nmf_et.loc['mean'])"
      ],
      "id": "4c9478e9"
    },
    {
      "cell_type": "code",
      "execution_count": 52,
      "metadata": {
        "id": "1ed14df5",
        "colab": {
          "base_uri": "https://localhost:8080/",
          "height": 300
        },
        "outputId": "b20b9f76-53e6-44ba-9347-583ae9e452ca"
      },
      "outputs": [
        {
          "output_type": "execute_result",
          "data": {
            "text/html": [
              "\n",
              "  <div id=\"df-170f47b0-9277-4732-bb51-529fdd766783\">\n",
              "    <div class=\"colab-df-container\">\n",
              "      <div>\n",
              "<style scoped>\n",
              "    .dataframe tbody tr th:only-of-type {\n",
              "        vertical-align: middle;\n",
              "    }\n",
              "\n",
              "    .dataframe tbody tr th {\n",
              "        vertical-align: top;\n",
              "    }\n",
              "\n",
              "    .dataframe thead th {\n",
              "        text-align: right;\n",
              "    }\n",
              "</style>\n",
              "<table border=\"1\" class=\"dataframe\">\n",
              "  <thead>\n",
              "    <tr style=\"text-align: right;\">\n",
              "      <th></th>\n",
              "      <th>precision</th>\n",
              "      <th>precision_std</th>\n",
              "      <th>recall</th>\n",
              "      <th>recall_std</th>\n",
              "      <th>f1</th>\n",
              "      <th>f1_std</th>\n",
              "    </tr>\n",
              "  </thead>\n",
              "  <tbody>\n",
              "    <tr>\n",
              "      <th>mean</th>\n",
              "      <td>0.74</td>\n",
              "      <td>0.10</td>\n",
              "      <td>0.41</td>\n",
              "      <td>0.04</td>\n",
              "      <td>0.44</td>\n",
              "      <td>0.04</td>\n",
              "    </tr>\n",
              "    <tr>\n",
              "      <th>mean</th>\n",
              "      <td>0.76</td>\n",
              "      <td>0.05</td>\n",
              "      <td>0.72</td>\n",
              "      <td>0.05</td>\n",
              "      <td>0.73</td>\n",
              "      <td>0.03</td>\n",
              "    </tr>\n",
              "    <tr>\n",
              "      <th>mean</th>\n",
              "      <td>0.51</td>\n",
              "      <td>0.05</td>\n",
              "      <td>0.43</td>\n",
              "      <td>0.04</td>\n",
              "      <td>0.44</td>\n",
              "      <td>0.04</td>\n",
              "    </tr>\n",
              "    <tr>\n",
              "      <th>mean</th>\n",
              "      <td>0.68</td>\n",
              "      <td>0.07</td>\n",
              "      <td>0.38</td>\n",
              "      <td>0.03</td>\n",
              "      <td>0.42</td>\n",
              "      <td>0.04</td>\n",
              "    </tr>\n",
              "    <tr>\n",
              "      <th>mean</th>\n",
              "      <td>0.61</td>\n",
              "      <td>0.16</td>\n",
              "      <td>0.46</td>\n",
              "      <td>0.06</td>\n",
              "      <td>0.47</td>\n",
              "      <td>0.07</td>\n",
              "    </tr>\n",
              "    <tr>\n",
              "      <th>mean</th>\n",
              "      <td>0.56</td>\n",
              "      <td>0.16</td>\n",
              "      <td>0.49</td>\n",
              "      <td>0.09</td>\n",
              "      <td>0.48</td>\n",
              "      <td>0.07</td>\n",
              "    </tr>\n",
              "    <tr>\n",
              "      <th>mean</th>\n",
              "      <td>0.50</td>\n",
              "      <td>0.04</td>\n",
              "      <td>0.49</td>\n",
              "      <td>0.04</td>\n",
              "      <td>0.48</td>\n",
              "      <td>0.04</td>\n",
              "    </tr>\n",
              "    <tr>\n",
              "      <th>mean</th>\n",
              "      <td>0.70</td>\n",
              "      <td>0.03</td>\n",
              "      <td>0.65</td>\n",
              "      <td>0.03</td>\n",
              "      <td>0.66</td>\n",
              "      <td>0.03</td>\n",
              "    </tr>\n",
              "  </tbody>\n",
              "</table>\n",
              "</div>\n",
              "      <button class=\"colab-df-convert\" onclick=\"convertToInteractive('df-170f47b0-9277-4732-bb51-529fdd766783')\"\n",
              "              title=\"Convert this dataframe to an interactive table.\"\n",
              "              style=\"display:none;\">\n",
              "        \n",
              "  <svg xmlns=\"http://www.w3.org/2000/svg\" height=\"24px\"viewBox=\"0 0 24 24\"\n",
              "       width=\"24px\">\n",
              "    <path d=\"M0 0h24v24H0V0z\" fill=\"none\"/>\n",
              "    <path d=\"M18.56 5.44l.94 2.06.94-2.06 2.06-.94-2.06-.94-.94-2.06-.94 2.06-2.06.94zm-11 1L8.5 8.5l.94-2.06 2.06-.94-2.06-.94L8.5 2.5l-.94 2.06-2.06.94zm10 10l.94 2.06.94-2.06 2.06-.94-2.06-.94-.94-2.06-.94 2.06-2.06.94z\"/><path d=\"M17.41 7.96l-1.37-1.37c-.4-.4-.92-.59-1.43-.59-.52 0-1.04.2-1.43.59L10.3 9.45l-7.72 7.72c-.78.78-.78 2.05 0 2.83L4 21.41c.39.39.9.59 1.41.59.51 0 1.02-.2 1.41-.59l7.78-7.78 2.81-2.81c.8-.78.8-2.07 0-2.86zM5.41 20L4 18.59l7.72-7.72 1.47 1.35L5.41 20z\"/>\n",
              "  </svg>\n",
              "      </button>\n",
              "      \n",
              "  <style>\n",
              "    .colab-df-container {\n",
              "      display:flex;\n",
              "      flex-wrap:wrap;\n",
              "      gap: 12px;\n",
              "    }\n",
              "\n",
              "    .colab-df-convert {\n",
              "      background-color: #E8F0FE;\n",
              "      border: none;\n",
              "      border-radius: 50%;\n",
              "      cursor: pointer;\n",
              "      display: none;\n",
              "      fill: #1967D2;\n",
              "      height: 32px;\n",
              "      padding: 0 0 0 0;\n",
              "      width: 32px;\n",
              "    }\n",
              "\n",
              "    .colab-df-convert:hover {\n",
              "      background-color: #E2EBFA;\n",
              "      box-shadow: 0px 1px 2px rgba(60, 64, 67, 0.3), 0px 1px 3px 1px rgba(60, 64, 67, 0.15);\n",
              "      fill: #174EA6;\n",
              "    }\n",
              "\n",
              "    [theme=dark] .colab-df-convert {\n",
              "      background-color: #3B4455;\n",
              "      fill: #D2E3FC;\n",
              "    }\n",
              "\n",
              "    [theme=dark] .colab-df-convert:hover {\n",
              "      background-color: #434B5C;\n",
              "      box-shadow: 0px 1px 3px 1px rgba(0, 0, 0, 0.15);\n",
              "      filter: drop-shadow(0px 1px 2px rgba(0, 0, 0, 0.3));\n",
              "      fill: #FFFFFF;\n",
              "    }\n",
              "  </style>\n",
              "\n",
              "      <script>\n",
              "        const buttonEl =\n",
              "          document.querySelector('#df-170f47b0-9277-4732-bb51-529fdd766783 button.colab-df-convert');\n",
              "        buttonEl.style.display =\n",
              "          google.colab.kernel.accessAllowed ? 'block' : 'none';\n",
              "\n",
              "        async function convertToInteractive(key) {\n",
              "          const element = document.querySelector('#df-170f47b0-9277-4732-bb51-529fdd766783');\n",
              "          const dataTable =\n",
              "            await google.colab.kernel.invokeFunction('convertToInteractive',\n",
              "                                                     [key], {});\n",
              "          if (!dataTable) return;\n",
              "\n",
              "          const docLinkHtml = 'Like what you see? Visit the ' +\n",
              "            '<a target=\"_blank\" href=https://colab.research.google.com/notebooks/data_table.ipynb>data table notebook</a>'\n",
              "            + ' to learn more about interactive tables.';\n",
              "          element.innerHTML = '';\n",
              "          dataTable['output_type'] = 'display_data';\n",
              "          await google.colab.output.renderOutput(dataTable, element);\n",
              "          const docLink = document.createElement('div');\n",
              "          docLink.innerHTML = docLinkHtml;\n",
              "          element.appendChild(docLink);\n",
              "        }\n",
              "      </script>\n",
              "    </div>\n",
              "  </div>\n",
              "  "
            ],
            "text/plain": [
              "      precision  precision_std  recall  recall_std    f1  f1_std\n",
              "mean       0.74           0.10    0.41        0.04  0.44    0.04\n",
              "mean       0.76           0.05    0.72        0.05  0.73    0.03\n",
              "mean       0.51           0.05    0.43        0.04  0.44    0.04\n",
              "mean       0.68           0.07    0.38        0.03  0.42    0.04\n",
              "mean       0.61           0.16    0.46        0.06  0.47    0.07\n",
              "mean       0.56           0.16    0.49        0.09  0.48    0.07\n",
              "mean       0.50           0.04    0.49        0.04  0.48    0.04\n",
              "mean       0.70           0.03    0.65        0.03  0.66    0.03"
            ]
          },
          "metadata": {},
          "execution_count": 52
        }
      ],
      "source": [
        "metrics"
      ],
      "id": "1ed14df5"
    },
    {
      "cell_type": "markdown",
      "source": [
        "Судя по результатам, выигрывает сочетание SVM разложения и SGD классификатора. Но, скорее всего, если ещё подкрутить параметры, его мог бы догнать NMF в сочетании с ExtraTrees"
      ],
      "metadata": {
        "id": "yijUvFZwXieW"
      },
      "id": "yijUvFZwXieW"
    },
    {
      "cell_type": "markdown",
      "metadata": {
        "id": "8436142a"
      },
      "source": [
        "### Задание № 2 (6 баллов)"
      ],
      "id": "8436142a"
    },
    {
      "cell_type": "markdown",
      "metadata": {
        "id": "6cb61f26"
      },
      "source": [
        "В Gensim тоже можно добавить нграммы и tfidf. Постройте 1 модель без них (как в семинаре) и еще 3 модели (1 с нграммами, 1 с tfidf и 1 с нграммами и с tfidf). Сранивте качество с помощью метрик (перплексия, когерентность) и на глаз. Определите лучшую модель. Для каждой модели выберите 1 самую красивую на ваш взгляд тему.\n",
        "\n",
        "Используйте данные википедии из семинара. Можете взять поменьше данных, если все обучается долго.\n",
        "\n",
        "Важное требование - получившиеся модели не должны быть совсем плохими. Если хороших тем не получается, попробуйте настроить гиперпараметры, отфильтровать словарь по-другому. "
      ],
      "id": "6cb61f26"
    },
    {
      "cell_type": "markdown",
      "metadata": {
        "id": "078f483a"
      },
      "source": [
        "Нграммы добавляются вот так (перед созданиеv словаря)"
      ],
      "id": "078f483a"
    },
    {
      "cell_type": "code",
      "execution_count": null,
      "metadata": {
        "id": "063bc5f6"
      },
      "outputs": [],
      "source": [
        "texts = [text.split() for text in texts]\n",
        "ph = gensim.models.Phrases(texts, scoring='npmi', threshold=0.4) # threshold можно подбирать\n",
        "p = gensim.models.phrases.Phraser(ph)\n",
        "ngrammed_texts = p[texts] \n",
        "\n",
        "# ! не забудьте, что далее вам нужно будет использовать ngrammed_texts"
      ],
      "id": "063bc5f6"
    },
    {
      "cell_type": "markdown",
      "metadata": {
        "id": "18bd49ff"
      },
      "source": [
        "!! В модели с нграммами вначале посмотрите, что получается после преобразования\n",
        "Если вы выведите несколько первых текстов в ngrammed_texts, то там должно быть что-то такое:"
      ],
      "id": "18bd49ff"
    },
    {
      "cell_type": "code",
      "execution_count": null,
      "metadata": {
        "id": "a82d1d14"
      },
      "outputs": [],
      "source": [
        "[text for text in ngrammed_texts[:3]]\n",
        ">> [['новостройка',\n",
        "  'нижегородский_область', # нграм\n",
        "  'новостро́йка',\n",
        "  '—',\n",
        "  'сельский',\n",
        "  'посёлок',\n",
        "  'в',\n",
        "  'дивеевский_район', # нграм\n",
        "  'нижегородский_область', #нграмм\n",
        "  'входить',\n",
        "  'в',\n",
        "  'состав_сатисский', #нграмм\n",
        "  'сельсовет',\n",
        "  'посёлок',\n",
        "  'расположить',\n",
        "  'в',\n",
        "  '12,5',\n",
        "  'километр',\n",
        "...."
      ],
      "id": "a82d1d14"
    },
    {
      "cell_type": "markdown",
      "metadata": {
        "id": "c0b38964"
      },
      "source": [
        "Если вы не видите нграммов, то попробуйте изменить параметр threshold"
      ],
      "id": "c0b38964"
    },
    {
      "cell_type": "markdown",
      "metadata": {
        "id": "6dccad9a"
      },
      "source": [
        "Tfidf добавляется вот так (после векторизации и перед обучением lda)"
      ],
      "id": "6dccad9a"
    },
    {
      "cell_type": "code",
      "execution_count": null,
      "metadata": {
        "id": "e6121148"
      },
      "outputs": [],
      "source": [
        "tfidf = gensim.models.TfidfModel(corpus, id2word=dictionary, )\n",
        "corpus = tfidf[corpus]"
      ],
      "id": "e6121148"
    },
    {
      "cell_type": "code",
      "execution_count": null,
      "metadata": {
        "id": "97cfe39e"
      },
      "outputs": [],
      "source": [
        ""
      ],
      "id": "97cfe39e"
    },
    {
      "cell_type": "code",
      "execution_count": null,
      "metadata": {
        "id": "75e7af07"
      },
      "outputs": [],
      "source": [
        ""
      ],
      "id": "75e7af07"
    }
  ],
  "metadata": {
    "accelerator": "GPU",
    "colab": {
      "name": "homework_5.ipynb",
      "provenance": [],
      "collapsed_sections": []
    },
    "kernelspec": {
      "display_name": "Python 3",
      "language": "python",
      "name": "python3"
    },
    "language_info": {
      "codemirror_mode": {
        "name": "ipython",
        "version": 3
      },
      "file_extension": ".py",
      "mimetype": "text/x-python",
      "name": "python",
      "nbconvert_exporter": "python",
      "pygments_lexer": "ipython3",
      "version": "3.8.8"
    }
  },
  "nbformat": 4,
  "nbformat_minor": 5
}