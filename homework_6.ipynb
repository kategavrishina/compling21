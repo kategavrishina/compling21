{
  "cells": [
    {
      "cell_type": "markdown",
      "metadata": {
        "id": "view-in-github",
        "colab_type": "text"
      },
      "source": [
        "<a href=\"https://colab.research.google.com/github/kategavrishina/compling21/blob/main/homework_6.ipynb\" target=\"_parent\"><img src=\"https://colab.research.google.com/assets/colab-badge.svg\" alt=\"Open In Colab\"/></a>"
      ]
    },
    {
      "cell_type": "markdown",
      "id": "6af66482",
      "metadata": {
        "id": "6af66482"
      },
      "source": [
        "#### Важное требование ко всей домашке в целом: в jupyter ноутбуке не должно был лишнего кода (т.е. если вы взяли за основу семинар, не забудьте удалить все лишнее)"
      ]
    },
    {
      "cell_type": "code",
      "execution_count": 1,
      "id": "1aed5eae",
      "metadata": {
        "id": "1aed5eae"
      },
      "outputs": [],
      "source": [
        "import tensorflow as tf\n",
        "import numpy as np\n",
        "import pandas as pd\n",
        "from string import punctuation\n",
        "from sklearn.model_selection import train_test_split\n",
        "from collections import Counter\n",
        "import matplotlib.pyplot as plt\n",
        "from sklearn.decomposition import TruncatedSVD\n",
        "from sklearn.feature_extraction.text import CountVectorizer\n",
        "from sklearn.metrics.pairwise import cosine_distances\n",
        "\n",
        "from IPython.display import Image\n",
        "from IPython.core.display import HTML \n",
        "%matplotlib inline"
      ]
    },
    {
      "cell_type": "code",
      "source": [
        "! pip install --upgrade gensim"
      ],
      "metadata": {
        "colab": {
          "base_uri": "https://localhost:8080/"
        },
        "id": "MBEi4hOKvTfj",
        "outputId": "040a5af3-a2e4-4672-b045-48e3bf5da467"
      },
      "id": "MBEi4hOKvTfj",
      "execution_count": 2,
      "outputs": [
        {
          "output_type": "stream",
          "name": "stdout",
          "text": [
            "Requirement already satisfied: gensim in /usr/local/lib/python3.7/dist-packages (4.1.2)\n",
            "Requirement already satisfied: scipy>=0.18.1 in /usr/local/lib/python3.7/dist-packages (from gensim) (1.4.1)\n",
            "Requirement already satisfied: smart-open>=1.8.1 in /usr/local/lib/python3.7/dist-packages (from gensim) (5.2.1)\n",
            "Requirement already satisfied: numpy>=1.17.0 in /usr/local/lib/python3.7/dist-packages (from gensim) (1.19.5)\n"
          ]
        }
      ]
    },
    {
      "cell_type": "code",
      "source": [
        "import gensim"
      ],
      "metadata": {
        "id": "sl-ABY8jvWo2"
      },
      "id": "sl-ABY8jvWo2",
      "execution_count": 3,
      "outputs": []
    },
    {
      "cell_type": "markdown",
      "id": "9c422aa0",
      "metadata": {
        "id": "9c422aa0"
      },
      "source": [
        "# Задание 1 (3 балла)"
      ]
    },
    {
      "cell_type": "markdown",
      "id": "e4a72790",
      "metadata": {
        "id": "e4a72790"
      },
      "source": [
        "Обучите word2vec модели с негативным семплированием (cbow и skip-gram) с помощью tensorflow аналогично тому, как это было сделано в семинаре. Вам нужно изменить следующие пункты: \n",
        "\n",
        "1.   добавьте лемматизацию в предобработку (любым способом) \n",
        "2.   измените размер окна на 6 для cbow и 12 для skip gram (обратите внимание, что размер окна = #слов слева + #слов справа, в gen_batches в семинаре window не так используется)\n",
        "3. измените часть с np.random.randint(vocab_size) так, чтобы случайные негативные примеры выбирались обратно пропорционально частотностям слов (частотные должны выбираться реже, а редкие чаще)\n",
        "\n",
        "Выберете несколько не похожих по смыслу слов, и протестируйте полученные эмбединги (найдите ближайшие слова и оцените правильность, как в семинаре)"
      ]
    },
    {
      "cell_type": "code",
      "source": [
        "from tqdm import tqdm"
      ],
      "metadata": {
        "id": "lDyCZrqI7GcG"
      },
      "id": "lDyCZrqI7GcG",
      "execution_count": 4,
      "outputs": []
    },
    {
      "cell_type": "code",
      "source": [
        "! pip install pymorphy2"
      ],
      "metadata": {
        "colab": {
          "base_uri": "https://localhost:8080/"
        },
        "id": "ULXLbLdj6f8y",
        "outputId": "1a54962b-8225-4800-968d-eea2b70592c2"
      },
      "id": "ULXLbLdj6f8y",
      "execution_count": 5,
      "outputs": [
        {
          "output_type": "stream",
          "name": "stdout",
          "text": [
            "Requirement already satisfied: pymorphy2 in /usr/local/lib/python3.7/dist-packages (0.9.1)\n",
            "Requirement already satisfied: docopt>=0.6 in /usr/local/lib/python3.7/dist-packages (from pymorphy2) (0.6.2)\n",
            "Requirement already satisfied: dawg-python>=0.7.1 in /usr/local/lib/python3.7/dist-packages (from pymorphy2) (0.7.2)\n",
            "Requirement already satisfied: pymorphy2-dicts-ru<3.0,>=2.4 in /usr/local/lib/python3.7/dist-packages (from pymorphy2) (2.4.417127.4579844)\n"
          ]
        }
      ]
    },
    {
      "cell_type": "code",
      "source": [
        "import pymorphy2"
      ],
      "metadata": {
        "id": "j3-axqae6ZNC"
      },
      "id": "j3-axqae6ZNC",
      "execution_count": 6,
      "outputs": []
    },
    {
      "cell_type": "code",
      "source": [
        "morph = pymorphy2.MorphAnalyzer()"
      ],
      "metadata": {
        "id": "8MYJdfRE6vK6"
      },
      "id": "8MYJdfRE6vK6",
      "execution_count": 7,
      "outputs": []
    },
    {
      "cell_type": "code",
      "source": [
        "from google.colab import drive\n",
        "drive.mount('/content/drive')"
      ],
      "metadata": {
        "colab": {
          "base_uri": "https://localhost:8080/"
        },
        "id": "jErT5dxO5pCf",
        "outputId": "9ce34660-7954-4c6e-abe7-e8ce3058eac4"
      },
      "id": "jErT5dxO5pCf",
      "execution_count": 8,
      "outputs": [
        {
          "output_type": "stream",
          "name": "stdout",
          "text": [
            "Drive already mounted at /content/drive; to attempt to forcibly remount, call drive.mount(\"/content/drive\", force_remount=True).\n"
          ]
        }
      ]
    },
    {
      "cell_type": "code",
      "source": [
        "wiki = open('drive/MyDrive/wiki_data.txt').read().split('\\n')"
      ],
      "metadata": {
        "id": "H0LRvqY449d5"
      },
      "id": "H0LRvqY449d5",
      "execution_count": 9,
      "outputs": []
    },
    {
      "cell_type": "code",
      "source": [
        "wiki = wiki[:10000]"
      ],
      "metadata": {
        "id": "3eBt1n-Z6Obe"
      },
      "id": "3eBt1n-Z6Obe",
      "execution_count": 10,
      "outputs": []
    },
    {
      "cell_type": "code",
      "execution_count": 11,
      "id": "cde5fd96",
      "metadata": {
        "id": "cde5fd96"
      },
      "outputs": [],
      "source": [
        "def preprocess(text):\n",
        "    tokens = text.lower().split()\n",
        "    tokens = [token.strip(punctuation) for token in tokens]\n",
        "    tokens = [morph.parse(token)[0].normal_form for token in tokens]\n",
        "    return tokens"
      ]
    },
    {
      "cell_type": "code",
      "source": [
        "texts = [preprocess(text) for text in tqdm(wiki)]"
      ],
      "metadata": {
        "colab": {
          "base_uri": "https://localhost:8080/"
        },
        "id": "rv5m5dzyl6p_",
        "outputId": "60f4ae4c-c94e-40fd-be27-304bb1349ce2"
      },
      "id": "rv5m5dzyl6p_",
      "execution_count": 12,
      "outputs": [
        {
          "output_type": "stream",
          "name": "stderr",
          "text": [
            "100%|██████████| 10000/10000 [10:49<00:00, 15.40it/s]\n"
          ]
        }
      ]
    },
    {
      "cell_type": "code",
      "execution_count": 13,
      "id": "4f71d7cb",
      "metadata": {
        "id": "4f71d7cb",
        "colab": {
          "base_uri": "https://localhost:8080/"
        },
        "outputId": "ef1e50c9-f282-4615-b281-6c6096b8a5e9"
      },
      "outputs": [
        {
          "output_type": "stream",
          "name": "stderr",
          "text": [
            "100%|██████████| 10000/10000 [00:00<00:00, 17989.50it/s]\n"
          ]
        }
      ],
      "source": [
        "vocab = Counter()\n",
        "\n",
        "for text in tqdm(texts):\n",
        "    vocab.update(text)"
      ]
    },
    {
      "cell_type": "code",
      "source": [
        "filtered_vocab = {}\n",
        "\n",
        "for word in vocab:\n",
        "    if vocab[word] > 30:\n",
        "        filtered_vocab[word] = vocab[word]"
      ],
      "metadata": {
        "id": "zgfzcTt54pn1"
      },
      "id": "zgfzcTt54pn1",
      "execution_count": 14,
      "outputs": []
    },
    {
      "cell_type": "code",
      "source": [
        "word2id = {'PAD':0}\n",
        "\n",
        "for word in filtered_vocab:\n",
        "    word2id[word] = len(word2id)\n",
        "id2word = {i:word for word, i in word2id.items()}"
      ],
      "metadata": {
        "id": "zP72xJ2g4pqI"
      },
      "id": "zP72xJ2g4pqI",
      "execution_count": 15,
      "outputs": []
    },
    {
      "cell_type": "code",
      "source": [
        "sentences = []\n",
        "\n",
        "for text in tqdm(texts):\n",
        "    ids = [word2id[token] for token in text if token in word2id]\n",
        "    sentences.append(ids)"
      ],
      "metadata": {
        "colab": {
          "base_uri": "https://localhost:8080/"
        },
        "id": "NnpiLc9nBVkb",
        "outputId": "09306d45-ba89-4d3a-8440-7e811c86f4e9"
      },
      "id": "NnpiLc9nBVkb",
      "execution_count": 16,
      "outputs": [
        {
          "output_type": "stream",
          "name": "stderr",
          "text": [
            "100%|██████████| 10000/10000 [00:00<00:00, 20286.05it/s]\n"
          ]
        }
      ]
    },
    {
      "cell_type": "markdown",
      "source": [
        "### Skip gram"
      ],
      "metadata": {
        "id": "7pAwPCpc80TS"
      },
      "id": "7pAwPCpc80TS"
    },
    {
      "cell_type": "code",
      "source": [
        "vocab_size = len(id2word)\n",
        "\n",
        "counts = np.array(list(filtered_vocab.values()))\n",
        "probs = 1 - (counts / counts.sum())\n",
        "rev_probs = probs / probs.sum()\n",
        "list_ids = [word2id[word] for word in filtered_vocab.keys()]\n",
        "\n",
        "new_vocab = np.random.choice(list_ids, size=1000000,  p=rev_probs)"
      ],
      "metadata": {
        "id": "83VqJu6mLiST"
      },
      "id": "83VqJu6mLiST",
      "execution_count": 17,
      "outputs": []
    },
    {
      "cell_type": "code",
      "source": [
        "def gen_batches_sg(sentences, window=12, batch_size=1000):\n",
        "    while True:\n",
        "        X_target = []\n",
        "        X_context = []\n",
        "        y = []\n",
        "\n",
        "        for sent in sentences:\n",
        "            for i in range(len(sent)-1):\n",
        "                word = sent[i]\n",
        "                context = sent[max(0, i-int(window/2)):i] + sent[i+1:i+int(window/2)]\n",
        "                for context_word in context:\n",
        "                    X_target.append(word)\n",
        "                    X_context.append(context_word)\n",
        "                    y.append(1)\n",
        "                    \n",
        "                    X_target.append(word)\n",
        "                    X_context.append(np.random.choice(new_vocab))\n",
        "\n",
        "                    y.append(0)\n",
        "\n",
        "                    if len(X_target) >= batch_size:\n",
        "                        X_target = np.array(X_target)\n",
        "                        X_context = np.array(X_context)\n",
        "                        y = np.array(y)\n",
        "                        yield ((X_target, X_context), y)\n",
        "                        X_target = []\n",
        "                        X_context = []\n",
        "                        y = []"
      ],
      "metadata": {
        "id": "WKTs7FVQ_k0f"
      },
      "id": "WKTs7FVQ_k0f",
      "execution_count": 18,
      "outputs": []
    },
    {
      "cell_type": "code",
      "source": [
        "inputs_target = tf.keras.layers.Input(shape=(1,))\n",
        "inputs_context = tf.keras.layers.Input(shape=(1,))\n",
        "\n",
        "\n",
        "embeddings_target = tf.keras.layers.Embedding(input_dim=len(word2id), output_dim=300)(inputs_target, )\n",
        "embeddings_context = tf.keras.layers.Embedding(input_dim=len(word2id), output_dim=300)(inputs_context, )\n",
        "\n",
        "target = tf.keras.layers.Flatten()(embeddings_target)\n",
        "context = tf.keras.layers.Flatten()(embeddings_context)\n",
        "\n",
        "dot = tf.keras.layers.Dot(1)([target, context])\n",
        "outputs = tf.keras.layers.Activation(activation='sigmoid')(dot)\n",
        "\n",
        "model = tf.keras.Model(inputs=[inputs_target, inputs_context], \n",
        "                       outputs=outputs)\n",
        "optimizer = tf.keras.optimizers.Adam(learning_rate=0.001)\n",
        "model.compile(optimizer=optimizer,\n",
        "              loss='binary_crossentropy',\n",
        "              metrics=['accuracy'])"
      ],
      "metadata": {
        "id": "nZiES23EAghk"
      },
      "id": "nZiES23EAghk",
      "execution_count": 19,
      "outputs": []
    },
    {
      "cell_type": "code",
      "source": [
        "model.fit(gen_batches_sg(sentences[:9000]),\n",
        "          validation_data=gen_batches_sg(sentences[9000:]),\n",
        "          batch_size=1000,\n",
        "          steps_per_epoch=10000,\n",
        "          validation_steps=30,\n",
        "         epochs=2)"
      ],
      "metadata": {
        "colab": {
          "base_uri": "https://localhost:8080/"
        },
        "id": "E8eumRxcGs60",
        "outputId": "b28e7001-4352-431d-ce02-f1e8f330bd8c"
      },
      "id": "E8eumRxcGs60",
      "execution_count": 20,
      "outputs": [
        {
          "output_type": "stream",
          "name": "stdout",
          "text": [
            "Epoch 1/2\n",
            "10000/10000 [==============================] - 69s 7ms/step - loss: 0.4623 - accuracy: 0.7879 - val_loss: 0.4536 - val_accuracy: 0.7968\n",
            "Epoch 2/2\n",
            "10000/10000 [==============================] - 68s 7ms/step - loss: 0.4503 - accuracy: 0.7975 - val_loss: 0.4799 - val_accuracy: 0.7777\n"
          ]
        },
        {
          "output_type": "execute_result",
          "data": {
            "text/plain": [
              "<keras.callbacks.History at 0x7f64d5a7ee50>"
            ]
          },
          "metadata": {},
          "execution_count": 20
        }
      ]
    },
    {
      "cell_type": "code",
      "source": [
        "embeddings_sg = model.layers[2].get_weights()[0]"
      ],
      "metadata": {
        "id": "pjxpJrF8SMze"
      },
      "id": "pjxpJrF8SMze",
      "execution_count": 21,
      "outputs": []
    },
    {
      "cell_type": "code",
      "source": [
        "def most_similar(word, embeddings):\n",
        "    similar = [id2word[i] for i in \n",
        "               cosine_distances(embeddings[word2id[word]].reshape(1, -1), embeddings).argsort()[0][:10]]\n",
        "    return similar"
      ],
      "metadata": {
        "id": "j_dM58djSUTK"
      },
      "id": "j_dM58djSUTK",
      "execution_count": 22,
      "outputs": []
    },
    {
      "cell_type": "code",
      "source": [
        "most_similar('больница', embeddings_sg)"
      ],
      "metadata": {
        "colab": {
          "base_uri": "https://localhost:8080/"
        },
        "id": "QllI7zYGSO4Y",
        "outputId": "13199d9a-5878-4b65-fb3a-f74dc7878115"
      },
      "id": "QllI7zYGSO4Y",
      "execution_count": 23,
      "outputs": [
        {
          "output_type": "execute_result",
          "data": {
            "text/plain": [
              "['больница',\n",
              " 'магазин',\n",
              " 'разместиться',\n",
              " 'сад',\n",
              " 'клиника',\n",
              " 'баня',\n",
              " 'наслать',\n",
              " 'начальный',\n",
              " 'бытовой',\n",
              " 'часовня']"
            ]
          },
          "metadata": {},
          "execution_count": 23
        }
      ]
    },
    {
      "cell_type": "code",
      "source": [
        "most_similar('животное', embeddings_sg)"
      ],
      "metadata": {
        "colab": {
          "base_uri": "https://localhost:8080/"
        },
        "id": "p9mGWd_EVdIO",
        "outputId": "696bc547-49c9-43f0-d0a4-c194b2c42071"
      },
      "id": "p9mGWd_EVdIO",
      "execution_count": 24,
      "outputs": [
        {
          "output_type": "execute_result",
          "data": {
            "text/plain": [
              "['животное',\n",
              " 'популяция',\n",
              " 'человеческий',\n",
              " 'пища',\n",
              " 'обычно',\n",
              " 'питаться',\n",
              " 'растительный',\n",
              " 'существо',\n",
              " 'плотный',\n",
              " 'климат']"
            ]
          },
          "metadata": {},
          "execution_count": 24
        }
      ]
    },
    {
      "cell_type": "markdown",
      "source": [
        "Мне кажется, это не очень хороший результат, потому что для некоторых слов я даже не могу придумать быстро обоснование (типа начальный и наслать). Для животного ближайшие слова выглядят получше, вроде бы все они имеют отношение к животным"
      ],
      "metadata": {
        "id": "7sPxd3JcdYc9"
      },
      "id": "7sPxd3JcdYc9"
    },
    {
      "cell_type": "markdown",
      "source": [
        "### CBOW"
      ],
      "metadata": {
        "id": "IZTz5V1SSlvD"
      },
      "id": "IZTz5V1SSlvD"
    },
    {
      "cell_type": "code",
      "source": [
        "def gen_batches_cbow(sentences, window=6, batch_size=1000):\n",
        "    while True:\n",
        "        X_target = []\n",
        "        X_context = []\n",
        "        y = []\n",
        "\n",
        "        for sent in sentences:\n",
        "            for i in range(len(sent)-1):\n",
        "                word = sent[i]\n",
        "                context = sent[max(0, i-int(window/2)):i] + sent[i+1:i+int(window/2)]\n",
        "\n",
        "                X_target.append(word)\n",
        "                X_context.append(context)\n",
        "                y.append(1)\n",
        "                \n",
        "                X_target.append(np.random.choice(new_vocab))\n",
        "                X_context.append(context)\n",
        "                y.append(0)\n",
        "\n",
        "                if len(X_target) == batch_size:\n",
        "                    X_target = np.array(X_target)\n",
        "                    X_context = tf.keras.preprocessing.sequence.pad_sequences(X_context, maxlen=window+1)\n",
        "                    y = np.array(y)\n",
        "                    yield ((X_target, X_context), y)\n",
        "                    X_target = []\n",
        "                    X_context = []\n",
        "                    y = []"
      ],
      "metadata": {
        "id": "DHQfl7DmSt8n"
      },
      "id": "DHQfl7DmSt8n",
      "execution_count": 25,
      "outputs": []
    },
    {
      "cell_type": "code",
      "source": [
        "inputs_target = tf.keras.layers.Input(shape=(1,))\n",
        "inputs_context = tf.keras.layers.Input(shape=(10,))\n",
        "\n",
        "\n",
        "embeddings_target = tf.keras.layers.Embedding(input_dim=len(word2id), output_dim=300)(inputs_target, )\n",
        "embeddings_context = tf.keras.layers.Embedding(input_dim=len(word2id), output_dim=300)(inputs_context, )\n",
        "\n",
        "target = tf.keras.layers.Flatten()(embeddings_target)\n",
        "context = tf.keras.layers.Lambda(lambda x: tf.keras.backend.sum(x, axis=1))(embeddings_context)\n",
        "dot = tf.keras.layers.Dot(1)([target, context])\n",
        "\n",
        "outputs = tf.keras.layers.Activation(activation='sigmoid')(dot)\n",
        "\n",
        "model = tf.keras.Model(inputs=[inputs_target, inputs_context], \n",
        "                       outputs=outputs)\n",
        "\n",
        "\n",
        "optimizer = tf.keras.optimizers.Adam(learning_rate=0.001)\n",
        "model.compile(optimizer=optimizer,\n",
        "              loss='binary_crossentropy',\n",
        "              metrics=['accuracy'])"
      ],
      "metadata": {
        "id": "2Nr-tJqXTCsZ"
      },
      "id": "2Nr-tJqXTCsZ",
      "execution_count": 26,
      "outputs": []
    },
    {
      "cell_type": "code",
      "source": [
        "model.fit(gen_batches_cbow(sentences[:9000]),\n",
        "          validation_data=gen_batches_cbow(sentences[9000:]),\n",
        "          batch_size=1000,\n",
        "          steps_per_epoch=5000,\n",
        "          validation_steps=30,\n",
        "         epochs=2)"
      ],
      "metadata": {
        "colab": {
          "base_uri": "https://localhost:8080/"
        },
        "id": "F4feh-ucTRXK",
        "outputId": "9f3f4828-d9a1-4200-b55c-60d292fda5ae"
      },
      "id": "F4feh-ucTRXK",
      "execution_count": 27,
      "outputs": [
        {
          "output_type": "stream",
          "name": "stdout",
          "text": [
            "Epoch 1/2\n",
            "5000/5000 [==============================] - 73s 14ms/step - loss: 0.3671 - accuracy: 0.8386 - val_loss: 0.3303 - val_accuracy: 0.8596\n",
            "Epoch 2/2\n",
            "5000/5000 [==============================] - 72s 14ms/step - loss: 0.2455 - accuracy: 0.8978 - val_loss: 0.3119 - val_accuracy: 0.8746\n"
          ]
        },
        {
          "output_type": "execute_result",
          "data": {
            "text/plain": [
              "<keras.callbacks.History at 0x7f644c2f7190>"
            ]
          },
          "metadata": {},
          "execution_count": 27
        }
      ]
    },
    {
      "cell_type": "code",
      "source": [
        "embeddings_cbow = model.layers[2].get_weights()[0]"
      ],
      "metadata": {
        "id": "3A5fBiivUxiQ"
      },
      "id": "3A5fBiivUxiQ",
      "execution_count": 28,
      "outputs": []
    },
    {
      "cell_type": "code",
      "source": [
        "most_similar('больница', embeddings_cbow)"
      ],
      "metadata": {
        "colab": {
          "base_uri": "https://localhost:8080/"
        },
        "id": "vQV3INtQU2Wo",
        "outputId": "f6b1c135-c35d-475c-e4bb-d78739edf734"
      },
      "id": "vQV3INtQU2Wo",
      "execution_count": 29,
      "outputs": [
        {
          "output_type": "execute_result",
          "data": {
            "text/plain": [
              "['больница',\n",
              " 'училище',\n",
              " 'гимназия',\n",
              " 'мастерская',\n",
              " 'контора',\n",
              " 'клиника',\n",
              " 'госпиталь',\n",
              " 'колледж',\n",
              " 'обучаться',\n",
              " 'мечеть']"
            ]
          },
          "metadata": {},
          "execution_count": 29
        }
      ]
    },
    {
      "cell_type": "code",
      "source": [
        "most_similar('животное', embeddings_cbow)"
      ],
      "metadata": {
        "colab": {
          "base_uri": "https://localhost:8080/"
        },
        "id": "XfTTnpmiVv1L",
        "outputId": "76f7f7c8-0ca1-4451-f25d-464c17f43924"
      },
      "id": "XfTTnpmiVv1L",
      "execution_count": 30,
      "outputs": [
        {
          "output_type": "execute_result",
          "data": {
            "text/plain": [
              "['животное',\n",
              " 'мясо',\n",
              " 'растение',\n",
              " 'собака',\n",
              " 'корова',\n",
              " 'птица',\n",
              " 'вещество',\n",
              " 'рыба',\n",
              " 'предмет',\n",
              " 'эксперимент']"
            ]
          },
          "metadata": {},
          "execution_count": 30
        }
      ]
    },
    {
      "cell_type": "markdown",
      "source": [
        "Здесь мне результат для больницы кажется более качественным, подобраны разнообразные заведения, среди которых госпиталь, которого не было в Skip Gram. Примеры для животного более частные, конкретные, что тоже неплохо"
      ],
      "metadata": {
        "id": "wj3v3CO6dxAQ"
      },
      "id": "wj3v3CO6dxAQ"
    },
    {
      "cell_type": "markdown",
      "id": "c3b61b7c",
      "metadata": {
        "id": "c3b61b7c"
      },
      "source": [
        "# Задание 2 (3 балла)"
      ]
    },
    {
      "cell_type": "markdown",
      "id": "66eff080",
      "metadata": {
        "id": "66eff080"
      },
      "source": [
        "Обучите 1 word2vec и 1 fastext модель в gensim. В каждой из модели нужно задать все параметры, которые мы разбирали на семинаре. Заданные значения должны отличаться от дефолтных и от тех, что мы использовали на семинаре."
      ]
    },
    {
      "cell_type": "code",
      "source": [
        "w2v = gensim.models.Word2Vec(texts, \n",
        "                             vector_size=250, \n",
        "                             min_count=20, \n",
        "                             max_vocab_size=8000,\n",
        "                             window=8,\n",
        "                             epochs=5,\n",
        "                             sg=0,\n",
        "                             sample=1e-4,\n",
        "                             hs=0,\n",
        "                             negative=10,\n",
        "                             ns_exponent=0.9,\n",
        "                             cbow_mean=1\n",
        ")"
      ],
      "metadata": {
        "id": "SpjrfJrMV4P_"
      },
      "id": "SpjrfJrMV4P_",
      "execution_count": 31,
      "outputs": []
    },
    {
      "cell_type": "code",
      "source": [
        "w2v.wv.most_similar('больница')"
      ],
      "metadata": {
        "colab": {
          "base_uri": "https://localhost:8080/"
        },
        "id": "xmI-NJtPWuHa",
        "outputId": "be9e0555-dd97-4753-f3aa-cd450ce49ce7"
      },
      "id": "xmI-NJtPWuHa",
      "execution_count": 32,
      "outputs": [
        {
          "output_type": "execute_result",
          "data": {
            "text/plain": [
              "[('дом', 0.7946489453315735),\n",
              " ('школа', 0.75991290807724),\n",
              " ('московский', 0.7353457808494568),\n",
              " ('работать', 0.7282063364982605),\n",
              " ('открыть', 0.6969732046127319),\n",
              " ('училище', 0.6908789277076721),\n",
              " ('детский', 0.6648695468902588),\n",
              " ('1896', 0.6599502563476562),\n",
              " ('архитектор', 0.6496672630310059),\n",
              " ('сад', 0.6479186415672302)]"
            ]
          },
          "metadata": {},
          "execution_count": 32
        }
      ]
    },
    {
      "cell_type": "code",
      "source": [
        "ft = gensim.models.FastText(texts, min_n=4, max_n=7)"
      ],
      "metadata": {
        "id": "FUbYd3uUWtht"
      },
      "id": "FUbYd3uUWtht",
      "execution_count": 33,
      "outputs": []
    },
    {
      "cell_type": "code",
      "source": [
        "ft.wv.most_similar('больница')"
      ],
      "metadata": {
        "colab": {
          "base_uri": "https://localhost:8080/"
        },
        "id": "bIV4CqOWW4BO",
        "outputId": "0cdff1e3-69a3-4d8b-9d0d-fba7690e24ff"
      },
      "id": "bIV4CqOWW4BO",
      "execution_count": 34,
      "outputs": [
        {
          "output_type": "execute_result",
          "data": {
            "text/plain": [
              "[('мельница', 0.8621236085891724),\n",
              " ('«дом', 0.8460416197776794),\n",
              " ('усыпальница', 0.8318303227424622),\n",
              " ('гостиница', 0.8172023296356201),\n",
              " ('дом', 0.8004085421562195),\n",
              " ('коласа', 0.7991678714752197),\n",
              " ('сад', 0.790465235710144),\n",
              " ('дом»', 0.7830639481544495),\n",
              " ('узедом', 0.7776100635528564),\n",
              " ('старица', 0.7747207880020142)]"
            ]
          },
          "metadata": {},
          "execution_count": 34
        }
      ]
    },
    {
      "cell_type": "markdown",
      "id": "e4bb928c",
      "metadata": {
        "id": "e4bb928c"
      },
      "source": [
        "# Задание 3 (4 балла)"
      ]
    },
    {
      "cell_type": "markdown",
      "id": "3019b0d1",
      "metadata": {
        "id": "3019b0d1"
      },
      "source": [
        "Используя датасет для классификации (labeled.csv) и простую нейронную сеть (последняя модель в семинаре), оцените качество полученных эмбедингов в задании 1 и 2 (4 набора эмбедингов), также проверьте 1 любую из предобученных моделей с rus-vectores (но только не tayga_upos_skipgram_300_2_2019). \n",
        "Какая модель показывает наилучший результат?\n",
        "\n",
        "Убедитесь, что для каждой модели вы корректно воспроизводите пайплайн предобработки (в 1 задании у вас лемматизация, не забудьте ее применить к датасету для классификации; у выбранной предобученной модели может быть своя специфичная предобработка - ее нужно воспроизвести)"
      ]
    },
    {
      "cell_type": "code",
      "execution_count": 35,
      "id": "ed908832",
      "metadata": {
        "id": "ed908832",
        "colab": {
          "base_uri": "https://localhost:8080/",
          "height": 423
        },
        "outputId": "73f9ccf6-e971-4cf6-a640-89e861ef98a0"
      },
      "outputs": [
        {
          "output_type": "execute_result",
          "data": {
            "text/html": [
              "\n",
              "  <div id=\"df-2717914e-e2a2-4d63-a7e6-0901d60592cf\">\n",
              "    <div class=\"colab-df-container\">\n",
              "      <div>\n",
              "<style scoped>\n",
              "    .dataframe tbody tr th:only-of-type {\n",
              "        vertical-align: middle;\n",
              "    }\n",
              "\n",
              "    .dataframe tbody tr th {\n",
              "        vertical-align: top;\n",
              "    }\n",
              "\n",
              "    .dataframe thead th {\n",
              "        text-align: right;\n",
              "    }\n",
              "</style>\n",
              "<table border=\"1\" class=\"dataframe\">\n",
              "  <thead>\n",
              "    <tr style=\"text-align: right;\">\n",
              "      <th></th>\n",
              "      <th>comment</th>\n",
              "      <th>toxic</th>\n",
              "      <th>norm_text</th>\n",
              "    </tr>\n",
              "  </thead>\n",
              "  <tbody>\n",
              "    <tr>\n",
              "      <th>0</th>\n",
              "      <td>Верблюдов-то за что? Дебилы, бл...\\n</td>\n",
              "      <td>1.0</td>\n",
              "      <td>[верблюд-то, за, что, дебил, бл]</td>\n",
              "    </tr>\n",
              "    <tr>\n",
              "      <th>1</th>\n",
              "      <td>Хохлы, это отдушина затюканого россиянина, мол...</td>\n",
              "      <td>1.0</td>\n",
              "      <td>[хохол, это, отдушина, затюканый, россиянин, м...</td>\n",
              "    </tr>\n",
              "    <tr>\n",
              "      <th>2</th>\n",
              "      <td>Собаке - собачья смерть\\n</td>\n",
              "      <td>1.0</td>\n",
              "      <td>[собака, , собачий, смерть]</td>\n",
              "    </tr>\n",
              "    <tr>\n",
              "      <th>3</th>\n",
              "      <td>Страницу обнови, дебил. Это тоже не оскорблени...</td>\n",
              "      <td>1.0</td>\n",
              "      <td>[страница, обновить, дебил, это, тоже, не, оск...</td>\n",
              "    </tr>\n",
              "    <tr>\n",
              "      <th>4</th>\n",
              "      <td>тебя не убедил 6-страничный пдф в том, что Скр...</td>\n",
              "      <td>1.0</td>\n",
              "      <td>[ты, не, убедить, 6-страничный, пдф, в, тот, ч...</td>\n",
              "    </tr>\n",
              "    <tr>\n",
              "      <th>...</th>\n",
              "      <td>...</td>\n",
              "      <td>...</td>\n",
              "      <td>...</td>\n",
              "    </tr>\n",
              "    <tr>\n",
              "      <th>14407</th>\n",
              "      <td>Вонючий совковый скот прибежал и ноет. А вот и...</td>\n",
              "      <td>1.0</td>\n",
              "      <td>[вонючий, совковый, скот, прибежать, и, ныть, ...</td>\n",
              "    </tr>\n",
              "    <tr>\n",
              "      <th>14408</th>\n",
              "      <td>А кого любить? Гоблина тупорылого что-ли? Или ...</td>\n",
              "      <td>1.0</td>\n",
              "      <td>[а, кто, любить, гоблин, тупорылый, что-ли, ил...</td>\n",
              "    </tr>\n",
              "    <tr>\n",
              "      <th>14409</th>\n",
              "      <td>Посмотрел Утомленных солнцем 2. И оказалось, ч...</td>\n",
              "      <td>0.0</td>\n",
              "      <td>[посмотреть, утомлённый, солнце, 2, и, оказать...</td>\n",
              "    </tr>\n",
              "    <tr>\n",
              "      <th>14410</th>\n",
              "      <td>КРЫМОТРЕД НАРУШАЕТ ПРАВИЛА РАЗДЕЛА Т.К В НЕМ Н...</td>\n",
              "      <td>1.0</td>\n",
              "      <td>[крымотред, нарушать, правило, раздел, т.к, в,...</td>\n",
              "    </tr>\n",
              "    <tr>\n",
              "      <th>14411</th>\n",
              "      <td>До сих пор пересматриваю его видео. Орамбо кст...</td>\n",
              "      <td>0.0</td>\n",
              "      <td>[до, сей, пора, пересматривать, он, видео, ора...</td>\n",
              "    </tr>\n",
              "  </tbody>\n",
              "</table>\n",
              "<p>14412 rows × 3 columns</p>\n",
              "</div>\n",
              "      <button class=\"colab-df-convert\" onclick=\"convertToInteractive('df-2717914e-e2a2-4d63-a7e6-0901d60592cf')\"\n",
              "              title=\"Convert this dataframe to an interactive table.\"\n",
              "              style=\"display:none;\">\n",
              "        \n",
              "  <svg xmlns=\"http://www.w3.org/2000/svg\" height=\"24px\"viewBox=\"0 0 24 24\"\n",
              "       width=\"24px\">\n",
              "    <path d=\"M0 0h24v24H0V0z\" fill=\"none\"/>\n",
              "    <path d=\"M18.56 5.44l.94 2.06.94-2.06 2.06-.94-2.06-.94-.94-2.06-.94 2.06-2.06.94zm-11 1L8.5 8.5l.94-2.06 2.06-.94-2.06-.94L8.5 2.5l-.94 2.06-2.06.94zm10 10l.94 2.06.94-2.06 2.06-.94-2.06-.94-.94-2.06-.94 2.06-2.06.94z\"/><path d=\"M17.41 7.96l-1.37-1.37c-.4-.4-.92-.59-1.43-.59-.52 0-1.04.2-1.43.59L10.3 9.45l-7.72 7.72c-.78.78-.78 2.05 0 2.83L4 21.41c.39.39.9.59 1.41.59.51 0 1.02-.2 1.41-.59l7.78-7.78 2.81-2.81c.8-.78.8-2.07 0-2.86zM5.41 20L4 18.59l7.72-7.72 1.47 1.35L5.41 20z\"/>\n",
              "  </svg>\n",
              "      </button>\n",
              "      \n",
              "  <style>\n",
              "    .colab-df-container {\n",
              "      display:flex;\n",
              "      flex-wrap:wrap;\n",
              "      gap: 12px;\n",
              "    }\n",
              "\n",
              "    .colab-df-convert {\n",
              "      background-color: #E8F0FE;\n",
              "      border: none;\n",
              "      border-radius: 50%;\n",
              "      cursor: pointer;\n",
              "      display: none;\n",
              "      fill: #1967D2;\n",
              "      height: 32px;\n",
              "      padding: 0 0 0 0;\n",
              "      width: 32px;\n",
              "    }\n",
              "\n",
              "    .colab-df-convert:hover {\n",
              "      background-color: #E2EBFA;\n",
              "      box-shadow: 0px 1px 2px rgba(60, 64, 67, 0.3), 0px 1px 3px 1px rgba(60, 64, 67, 0.15);\n",
              "      fill: #174EA6;\n",
              "    }\n",
              "\n",
              "    [theme=dark] .colab-df-convert {\n",
              "      background-color: #3B4455;\n",
              "      fill: #D2E3FC;\n",
              "    }\n",
              "\n",
              "    [theme=dark] .colab-df-convert:hover {\n",
              "      background-color: #434B5C;\n",
              "      box-shadow: 0px 1px 3px 1px rgba(0, 0, 0, 0.15);\n",
              "      filter: drop-shadow(0px 1px 2px rgba(0, 0, 0, 0.3));\n",
              "      fill: #FFFFFF;\n",
              "    }\n",
              "  </style>\n",
              "\n",
              "      <script>\n",
              "        const buttonEl =\n",
              "          document.querySelector('#df-2717914e-e2a2-4d63-a7e6-0901d60592cf button.colab-df-convert');\n",
              "        buttonEl.style.display =\n",
              "          google.colab.kernel.accessAllowed ? 'block' : 'none';\n",
              "\n",
              "        async function convertToInteractive(key) {\n",
              "          const element = document.querySelector('#df-2717914e-e2a2-4d63-a7e6-0901d60592cf');\n",
              "          const dataTable =\n",
              "            await google.colab.kernel.invokeFunction('convertToInteractive',\n",
              "                                                     [key], {});\n",
              "          if (!dataTable) return;\n",
              "\n",
              "          const docLinkHtml = 'Like what you see? Visit the ' +\n",
              "            '<a target=\"_blank\" href=https://colab.research.google.com/notebooks/data_table.ipynb>data table notebook</a>'\n",
              "            + ' to learn more about interactive tables.';\n",
              "          element.innerHTML = '';\n",
              "          dataTable['output_type'] = 'display_data';\n",
              "          await google.colab.output.renderOutput(dataTable, element);\n",
              "          const docLink = document.createElement('div');\n",
              "          docLink.innerHTML = docLinkHtml;\n",
              "          element.appendChild(docLink);\n",
              "        }\n",
              "      </script>\n",
              "    </div>\n",
              "  </div>\n",
              "  "
            ],
            "text/plain": [
              "                                                 comment  ...                                          norm_text\n",
              "0                   Верблюдов-то за что? Дебилы, бл...\\n  ...                   [верблюд-то, за, что, дебил, бл]\n",
              "1      Хохлы, это отдушина затюканого россиянина, мол...  ...  [хохол, это, отдушина, затюканый, россиянин, м...\n",
              "2                              Собаке - собачья смерть\\n  ...                        [собака, , собачий, смерть]\n",
              "3      Страницу обнови, дебил. Это тоже не оскорблени...  ...  [страница, обновить, дебил, это, тоже, не, оск...\n",
              "4      тебя не убедил 6-страничный пдф в том, что Скр...  ...  [ты, не, убедить, 6-страничный, пдф, в, тот, ч...\n",
              "...                                                  ...  ...                                                ...\n",
              "14407  Вонючий совковый скот прибежал и ноет. А вот и...  ...  [вонючий, совковый, скот, прибежать, и, ныть, ...\n",
              "14408  А кого любить? Гоблина тупорылого что-ли? Или ...  ...  [а, кто, любить, гоблин, тупорылый, что-ли, ил...\n",
              "14409  Посмотрел Утомленных солнцем 2. И оказалось, ч...  ...  [посмотреть, утомлённый, солнце, 2, и, оказать...\n",
              "14410  КРЫМОТРЕД НАРУШАЕТ ПРАВИЛА РАЗДЕЛА Т.К В НЕМ Н...  ...  [крымотред, нарушать, правило, раздел, т.к, в,...\n",
              "14411  До сих пор пересматриваю его видео. Орамбо кст...  ...  [до, сей, пора, пересматривать, он, видео, ора...\n",
              "\n",
              "[14412 rows x 3 columns]"
            ]
          },
          "metadata": {},
          "execution_count": 35
        }
      ],
      "source": [
        "data = pd.read_csv('drive/MyDrive/labeled.csv')\n",
        "data['norm_text'] = data.comment.apply(preprocess)\n",
        "data"
      ]
    },
    {
      "cell_type": "code",
      "execution_count": 36,
      "id": "60c18c5a",
      "metadata": {
        "id": "60c18c5a",
        "colab": {
          "base_uri": "https://localhost:8080/"
        },
        "outputId": "4628132f-7281-4610-9c25-8d22fc29b832"
      },
      "outputs": [
        {
          "output_type": "execute_result",
          "data": {
            "text/plain": [
              "6309"
            ]
          },
          "metadata": {},
          "execution_count": 36
        }
      ],
      "source": [
        "vocab = Counter()\n",
        "\n",
        "for text in data['norm_text']:\n",
        "    vocab.update(text)\n",
        "    \n",
        "filtered_vocab = set()\n",
        "\n",
        "for word in vocab:\n",
        "    if vocab[word] > 5:\n",
        "        filtered_vocab.add(word)\n",
        "\n",
        "len(filtered_vocab)"
      ]
    },
    {
      "cell_type": "code",
      "source": [
        "word2id = {'PAD':0}\n",
        "\n",
        "for word in filtered_vocab:\n",
        "    word2id[word] = len(word2id)\n",
        "id2word = {i:word for word, i in word2id.items()}"
      ],
      "metadata": {
        "id": "c8o8e_cYhLyn"
      },
      "id": "c8o8e_cYhLyn",
      "execution_count": 37,
      "outputs": []
    },
    {
      "cell_type": "code",
      "source": [
        "X = []\n",
        "\n",
        "for tokens in data['norm_text']:\n",
        "    ids = [word2id[token] for token in tokens if token in word2id]\n",
        "    X.append(ids)"
      ],
      "metadata": {
        "id": "8J-ba3VmhOxZ"
      },
      "id": "8J-ba3VmhOxZ",
      "execution_count": 38,
      "outputs": []
    },
    {
      "cell_type": "code",
      "source": [
        "X = tf.keras.preprocessing.sequence.pad_sequences(X, maxlen=100)\n",
        "y = data.toxic.values"
      ],
      "metadata": {
        "id": "pcMV8xhPhSmn"
      },
      "id": "pcMV8xhPhSmn",
      "execution_count": 39,
      "outputs": []
    },
    {
      "cell_type": "code",
      "source": [
        "X_train, X_valid, y_train, y_valid = train_test_split(X, y, test_size=0.05)"
      ],
      "metadata": {
        "id": "FaSoHBKlhU2n"
      },
      "id": "FaSoHBKlhU2n",
      "execution_count": 40,
      "outputs": []
    },
    {
      "cell_type": "code",
      "source": [
        "weights = np.zeros((len(word2id), 100))\n",
        "\n",
        "for word, i in word2id.items():\n",
        "    if word == 'PAD':\n",
        "        continue\n",
        "\n",
        "    try:\n",
        "        weights[i] = ft.wv[word]\n",
        "    \n",
        "    \n",
        "    except KeyError:\n",
        "        continue\n",
        "        weights[i] = ft.wv['орлижльдвч']"
      ],
      "metadata": {
        "id": "XD5xJannh1V0"
      },
      "id": "XD5xJannh1V0",
      "execution_count": 41,
      "outputs": []
    },
    {
      "cell_type": "code",
      "source": [
        "inputs = tf.keras.layers.Input(shape=(100,))\n",
        "\n",
        "embeddings = tf.keras.layers.Embedding(input_dim=len(word2id), output_dim=100, \n",
        "                                       trainable=False,\n",
        "                                       weights=[weights])(inputs, )\n",
        "mean = tf.keras.layers.Lambda(lambda x: tf.keras.backend.mean(x, axis=1))(embeddings)\n",
        "outputs = tf.keras.layers.Dense(1, activation='sigmoid')(mean)\n",
        "\n",
        "model = tf.keras.Model(inputs=inputs, outputs=outputs)\n",
        "optimizer = tf.keras.optimizers.Adam()\n",
        "model.compile(optimizer=optimizer,\n",
        "              loss='binary_crossentropy',\n",
        "              metrics=['accuracy'])"
      ],
      "metadata": {
        "id": "hyG6Vxw8hXOI"
      },
      "id": "hyG6Vxw8hXOI",
      "execution_count": 42,
      "outputs": []
    },
    {
      "cell_type": "code",
      "source": [
        "model.fit(X_train, y_train, \n",
        "          validation_data=(X_valid, y_valid),\n",
        "          batch_size=32,\n",
        "         epochs=10)"
      ],
      "metadata": {
        "colab": {
          "base_uri": "https://localhost:8080/"
        },
        "id": "urIuG0BShgaT",
        "outputId": "471f9e06-644a-4f8f-ade9-c95e4bdc7173"
      },
      "id": "urIuG0BShgaT",
      "execution_count": 43,
      "outputs": [
        {
          "output_type": "stream",
          "name": "stdout",
          "text": [
            "Epoch 1/10\n",
            "428/428 [==============================] - 2s 3ms/step - loss: 0.6304 - accuracy: 0.6517 - val_loss: 0.5876 - val_accuracy: 0.6865\n",
            "Epoch 2/10\n",
            "428/428 [==============================] - 1s 3ms/step - loss: 0.6043 - accuracy: 0.6640 - val_loss: 0.5763 - val_accuracy: 0.6879\n",
            "Epoch 3/10\n",
            "428/428 [==============================] - 1s 3ms/step - loss: 0.5938 - accuracy: 0.6666 - val_loss: 0.5731 - val_accuracy: 0.6893\n",
            "Epoch 4/10\n",
            "428/428 [==============================] - 1s 3ms/step - loss: 0.5873 - accuracy: 0.6709 - val_loss: 0.5666 - val_accuracy: 0.6935\n",
            "Epoch 5/10\n",
            "428/428 [==============================] - 1s 3ms/step - loss: 0.5823 - accuracy: 0.6754 - val_loss: 0.5636 - val_accuracy: 0.6990\n",
            "Epoch 6/10\n",
            "428/428 [==============================] - 1s 3ms/step - loss: 0.5790 - accuracy: 0.6802 - val_loss: 0.5620 - val_accuracy: 0.7074\n",
            "Epoch 7/10\n",
            "428/428 [==============================] - 1s 3ms/step - loss: 0.5763 - accuracy: 0.6817 - val_loss: 0.5607 - val_accuracy: 0.7046\n",
            "Epoch 8/10\n",
            "428/428 [==============================] - 1s 3ms/step - loss: 0.5738 - accuracy: 0.6838 - val_loss: 0.5597 - val_accuracy: 0.7032\n",
            "Epoch 9/10\n",
            "428/428 [==============================] - 1s 3ms/step - loss: 0.5718 - accuracy: 0.6853 - val_loss: 0.5628 - val_accuracy: 0.7018\n",
            "Epoch 10/10\n",
            "428/428 [==============================] - 1s 3ms/step - loss: 0.5705 - accuracy: 0.6866 - val_loss: 0.5587 - val_accuracy: 0.7060\n"
          ]
        },
        {
          "output_type": "execute_result",
          "data": {
            "text/plain": [
              "<keras.callbacks.History at 0x7f640e2ffb10>"
            ]
          },
          "metadata": {},
          "execution_count": 43
        }
      ]
    },
    {
      "cell_type": "code",
      "source": [
        "weights = np.zeros((len(word2id), 250))\n",
        "\n",
        "for word, i in word2id.items():\n",
        "    if word == 'PAD':\n",
        "        continue\n",
        "\n",
        "    try:\n",
        "        weights[i] = w2v.wv[word]\n",
        "    \n",
        "    \n",
        "    except KeyError:\n",
        "        continue\n",
        "        weights[i] = np.random.rand(250)"
      ],
      "metadata": {
        "id": "tgQSw2v2iLFf"
      },
      "id": "tgQSw2v2iLFf",
      "execution_count": 44,
      "outputs": []
    },
    {
      "cell_type": "code",
      "source": [
        "inputs = tf.keras.layers.Input(shape=(100,))\n",
        "\n",
        "embeddings = tf.keras.layers.Embedding(input_dim=len(word2id), output_dim=250, \n",
        "                                       trainable=False,\n",
        "                                       weights=[weights])(inputs, )\n",
        "mean = tf.keras.layers.Lambda(lambda x: tf.keras.backend.mean(x, axis=1))(embeddings)\n",
        "outputs = tf.keras.layers.Dense(1, activation='sigmoid')(mean)\n",
        "\n",
        "model = tf.keras.Model(inputs=inputs, outputs=outputs)\n",
        "optimizer = tf.keras.optimizers.Adam()\n",
        "model.compile(optimizer=optimizer,\n",
        "              loss='binary_crossentropy',\n",
        "              metrics=['accuracy'])"
      ],
      "metadata": {
        "id": "4Q77y6TGijHm"
      },
      "id": "4Q77y6TGijHm",
      "execution_count": 45,
      "outputs": []
    },
    {
      "cell_type": "code",
      "source": [
        "model.fit(X_train, y_train, \n",
        "          validation_data=(X_valid, y_valid),\n",
        "          batch_size=32,\n",
        "         epochs=10)"
      ],
      "metadata": {
        "colab": {
          "base_uri": "https://localhost:8080/"
        },
        "id": "6Ae2bXwDimCB",
        "outputId": "0389036a-3558-4d5b-cd81-63e00b13b7bf"
      },
      "id": "6Ae2bXwDimCB",
      "execution_count": 46,
      "outputs": [
        {
          "output_type": "stream",
          "name": "stdout",
          "text": [
            "Epoch 1/10\n",
            "428/428 [==============================] - 2s 3ms/step - loss: 0.6312 - accuracy: 0.6551 - val_loss: 0.5904 - val_accuracy: 0.6865\n",
            "Epoch 2/10\n",
            "428/428 [==============================] - 1s 3ms/step - loss: 0.6034 - accuracy: 0.6640 - val_loss: 0.5777 - val_accuracy: 0.6865\n",
            "Epoch 3/10\n",
            "428/428 [==============================] - 1s 3ms/step - loss: 0.5914 - accuracy: 0.6639 - val_loss: 0.5680 - val_accuracy: 0.6865\n",
            "Epoch 4/10\n",
            "428/428 [==============================] - 1s 3ms/step - loss: 0.5831 - accuracy: 0.6651 - val_loss: 0.5614 - val_accuracy: 0.6865\n",
            "Epoch 5/10\n",
            "428/428 [==============================] - 1s 3ms/step - loss: 0.5769 - accuracy: 0.6677 - val_loss: 0.5568 - val_accuracy: 0.6963\n",
            "Epoch 6/10\n",
            "428/428 [==============================] - 1s 3ms/step - loss: 0.5720 - accuracy: 0.6716 - val_loss: 0.5525 - val_accuracy: 0.7032\n",
            "Epoch 7/10\n",
            "428/428 [==============================] - 1s 3ms/step - loss: 0.5682 - accuracy: 0.6750 - val_loss: 0.5506 - val_accuracy: 0.7060\n",
            "Epoch 8/10\n",
            "428/428 [==============================] - 1s 3ms/step - loss: 0.5651 - accuracy: 0.6786 - val_loss: 0.5480 - val_accuracy: 0.7129\n",
            "Epoch 9/10\n",
            "428/428 [==============================] - 1s 3ms/step - loss: 0.5625 - accuracy: 0.6808 - val_loss: 0.5455 - val_accuracy: 0.7129\n",
            "Epoch 10/10\n",
            "428/428 [==============================] - 1s 3ms/step - loss: 0.5604 - accuracy: 0.6850 - val_loss: 0.5441 - val_accuracy: 0.7157\n"
          ]
        },
        {
          "output_type": "execute_result",
          "data": {
            "text/plain": [
              "<keras.callbacks.History at 0x7f64197e71d0>"
            ]
          },
          "metadata": {},
          "execution_count": 46
        }
      ]
    },
    {
      "cell_type": "code",
      "source": [
        "weights = np.zeros((len(word2id), 300))\n",
        "\n",
        "for word, i in word2id.items():\n",
        "    if word == 'PAD':\n",
        "        continue\n",
        "\n",
        "    try:\n",
        "        weights[i] = embeddings_sg[word2id[word]]\n",
        "    \n",
        "    \n",
        "    except KeyError:\n",
        "        continue\n",
        "        weights[i] = np.random.rand(300)"
      ],
      "metadata": {
        "id": "43XoG6ksjKSI"
      },
      "id": "43XoG6ksjKSI",
      "execution_count": 51,
      "outputs": []
    },
    {
      "cell_type": "code",
      "source": [
        "inputs = tf.keras.layers.Input(shape=(100,))\n",
        "\n",
        "embeddings = tf.keras.layers.Embedding(input_dim=len(word2id), output_dim=300, \n",
        "                                       trainable=False,\n",
        "                                       weights=[weights])(inputs, )\n",
        "mean = tf.keras.layers.Lambda(lambda x: tf.keras.backend.mean(x, axis=1))(embeddings)\n",
        "outputs = tf.keras.layers.Dense(1, activation='sigmoid')(mean)\n",
        "\n",
        "model = tf.keras.Model(inputs=inputs, outputs=outputs)\n",
        "optimizer = tf.keras.optimizers.Adam()\n",
        "model.compile(optimizer=optimizer,\n",
        "              loss='binary_crossentropy',\n",
        "              metrics=['accuracy'])"
      ],
      "metadata": {
        "id": "9yXvpeLbtriI"
      },
      "id": "9yXvpeLbtriI",
      "execution_count": 52,
      "outputs": []
    },
    {
      "cell_type": "code",
      "source": [
        "model.fit(X_train, y_train, \n",
        "          validation_data=(X_valid, y_valid),\n",
        "          batch_size=32,\n",
        "         epochs=10)"
      ],
      "metadata": {
        "colab": {
          "base_uri": "https://localhost:8080/"
        },
        "id": "X7g73gMwu0ug",
        "outputId": "b44ace37-5e98-4704-8f9d-44cd7903622e"
      },
      "id": "X7g73gMwu0ug",
      "execution_count": 54,
      "outputs": [
        {
          "output_type": "stream",
          "name": "stdout",
          "text": [
            "Epoch 1/10\n",
            "428/428 [==============================] - 2s 3ms/step - loss: 0.6477 - accuracy: 0.6598 - val_loss: 0.6095 - val_accuracy: 0.6865\n",
            "Epoch 2/10\n",
            "428/428 [==============================] - 1s 3ms/step - loss: 0.6222 - accuracy: 0.6640 - val_loss: 0.6004 - val_accuracy: 0.6865\n",
            "Epoch 3/10\n",
            "428/428 [==============================] - 1s 3ms/step - loss: 0.6199 - accuracy: 0.6640 - val_loss: 0.5983 - val_accuracy: 0.6865\n",
            "Epoch 4/10\n",
            "428/428 [==============================] - 1s 3ms/step - loss: 0.6188 - accuracy: 0.6640 - val_loss: 0.5972 - val_accuracy: 0.6865\n",
            "Epoch 5/10\n",
            "428/428 [==============================] - 1s 3ms/step - loss: 0.6177 - accuracy: 0.6640 - val_loss: 0.5961 - val_accuracy: 0.6865\n",
            "Epoch 6/10\n",
            "428/428 [==============================] - 1s 3ms/step - loss: 0.6166 - accuracy: 0.6640 - val_loss: 0.5956 - val_accuracy: 0.6865\n",
            "Epoch 7/10\n",
            "428/428 [==============================] - 1s 3ms/step - loss: 0.6156 - accuracy: 0.6640 - val_loss: 0.5948 - val_accuracy: 0.6865\n",
            "Epoch 8/10\n",
            "428/428 [==============================] - 1s 3ms/step - loss: 0.6146 - accuracy: 0.6640 - val_loss: 0.5943 - val_accuracy: 0.6865\n",
            "Epoch 9/10\n",
            "428/428 [==============================] - 1s 3ms/step - loss: 0.6136 - accuracy: 0.6640 - val_loss: 0.5932 - val_accuracy: 0.6865\n",
            "Epoch 10/10\n",
            "428/428 [==============================] - 1s 3ms/step - loss: 0.6127 - accuracy: 0.6640 - val_loss: 0.5926 - val_accuracy: 0.6865\n"
          ]
        },
        {
          "output_type": "execute_result",
          "data": {
            "text/plain": [
              "<keras.callbacks.History at 0x7f64195dcbd0>"
            ]
          },
          "metadata": {},
          "execution_count": 54
        }
      ]
    },
    {
      "cell_type": "code",
      "source": [
        "weights = np.zeros((len(word2id), 300))\n",
        "\n",
        "for word, i in word2id.items():\n",
        "    if word == 'PAD':\n",
        "        continue\n",
        "\n",
        "    try:\n",
        "        weights[i] = embeddings_cbow[word2id[word]]\n",
        "    \n",
        "    \n",
        "    except KeyError:\n",
        "        continue\n",
        "        weights[i] = np.random.rand(300)"
      ],
      "metadata": {
        "id": "6mNPzsSS2ssi"
      },
      "execution_count": 56,
      "outputs": [],
      "id": "6mNPzsSS2ssi"
    },
    {
      "cell_type": "code",
      "source": [
        "inputs = tf.keras.layers.Input(shape=(100,))\n",
        "\n",
        "embeddings = tf.keras.layers.Embedding(input_dim=len(word2id), output_dim=300, \n",
        "                                       trainable=False,\n",
        "                                       weights=[weights])(inputs, )\n",
        "mean = tf.keras.layers.Lambda(lambda x: tf.keras.backend.mean(x, axis=1))(embeddings)\n",
        "outputs = tf.keras.layers.Dense(1, activation='sigmoid')(mean)\n",
        "\n",
        "model = tf.keras.Model(inputs=inputs, outputs=outputs)\n",
        "optimizer = tf.keras.optimizers.Adam()\n",
        "model.compile(optimizer=optimizer,\n",
        "              loss='binary_crossentropy',\n",
        "              metrics=['accuracy'])"
      ],
      "metadata": {
        "id": "yqBvb-jZ2ssj"
      },
      "execution_count": 57,
      "outputs": [],
      "id": "yqBvb-jZ2ssj"
    },
    {
      "cell_type": "code",
      "source": [
        "model.fit(X_train, y_train, \n",
        "          validation_data=(X_valid, y_valid),\n",
        "          batch_size=32,\n",
        "         epochs=10)"
      ],
      "metadata": {
        "colab": {
          "base_uri": "https://localhost:8080/"
        },
        "outputId": "fc20e6d2-c6e9-49bc-d2c8-ff2da41d4658",
        "id": "U5nePtut2ssj"
      },
      "execution_count": 58,
      "outputs": [
        {
          "output_type": "stream",
          "name": "stdout",
          "text": [
            "Epoch 1/10\n",
            "428/428 [==============================] - 2s 5ms/step - loss: 0.6323 - accuracy: 0.6640 - val_loss: 0.5996 - val_accuracy: 0.6865\n",
            "Epoch 2/10\n",
            "428/428 [==============================] - 2s 4ms/step - loss: 0.6212 - accuracy: 0.6640 - val_loss: 0.5981 - val_accuracy: 0.6865\n",
            "Epoch 3/10\n",
            "428/428 [==============================] - 1s 3ms/step - loss: 0.6196 - accuracy: 0.6640 - val_loss: 0.5969 - val_accuracy: 0.6865\n",
            "Epoch 4/10\n",
            "428/428 [==============================] - 1s 3ms/step - loss: 0.6181 - accuracy: 0.6640 - val_loss: 0.5955 - val_accuracy: 0.6865\n",
            "Epoch 5/10\n",
            "428/428 [==============================] - 1s 3ms/step - loss: 0.6165 - accuracy: 0.6640 - val_loss: 0.5952 - val_accuracy: 0.6865\n",
            "Epoch 6/10\n",
            "428/428 [==============================] - 1s 3ms/step - loss: 0.6150 - accuracy: 0.6640 - val_loss: 0.5953 - val_accuracy: 0.6865\n",
            "Epoch 7/10\n",
            "428/428 [==============================] - 1s 3ms/step - loss: 0.6137 - accuracy: 0.6640 - val_loss: 0.5934 - val_accuracy: 0.6865\n",
            "Epoch 8/10\n",
            "428/428 [==============================] - 1s 3ms/step - loss: 0.6122 - accuracy: 0.6640 - val_loss: 0.5913 - val_accuracy: 0.6865\n",
            "Epoch 9/10\n",
            "428/428 [==============================] - 1s 3ms/step - loss: 0.6109 - accuracy: 0.6640 - val_loss: 0.5913 - val_accuracy: 0.6865\n",
            "Epoch 10/10\n",
            "428/428 [==============================] - 1s 3ms/step - loss: 0.6095 - accuracy: 0.6640 - val_loss: 0.5904 - val_accuracy: 0.6865\n"
          ]
        },
        {
          "output_type": "execute_result",
          "data": {
            "text/plain": [
              "<keras.callbacks.History at 0x7f640d727350>"
            ]
          },
          "metadata": {},
          "execution_count": 58
        }
      ],
      "id": "U5nePtut2ssj"
    },
    {
      "cell_type": "markdown",
      "source": [
        "Лучшее качество на валидации у модели с эмбеддингами word2vec, модель с fasttext не сильно хуже. Модели с skipgram и cbow негативным семплированием ведут себя странно на валидации, но у меня не получилось понять почему. Тем не менее, видно, что лосс уменьшается, в этом плане модель cbow лучше по качеству, чем skipgram (как и казалось по результатам поиска ближайших слов)"
      ],
      "metadata": {
        "id": "dDd2iaCbe84Q"
      },
      "id": "dDd2iaCbe84Q"
    },
    {
      "cell_type": "code",
      "source": [
        ""
      ],
      "metadata": {
        "id": "eAHlZdJ22vS6"
      },
      "id": "eAHlZdJ22vS6",
      "execution_count": null,
      "outputs": []
    }
  ],
  "metadata": {
    "kernelspec": {
      "display_name": "Python 3",
      "language": "python",
      "name": "python3"
    },
    "language_info": {
      "codemirror_mode": {
        "name": "ipython",
        "version": 3
      },
      "file_extension": ".py",
      "mimetype": "text/x-python",
      "name": "python",
      "nbconvert_exporter": "python",
      "pygments_lexer": "ipython3",
      "version": "3.7.2"
    },
    "colab": {
      "name": "homework 6.ipynb",
      "provenance": [],
      "include_colab_link": true
    },
    "accelerator": "GPU"
  },
  "nbformat": 4,
  "nbformat_minor": 5
}