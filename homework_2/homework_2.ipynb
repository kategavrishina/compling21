{
 "cells": [
  {
   "cell_type": "markdown",
   "id": "f3705663",
   "metadata": {},
   "source": [
    "# Домашнее задание № 2. Мешок слов"
   ]
  },
  {
   "cell_type": "markdown",
   "id": "0cf72d19",
   "metadata": {},
   "source": [
    "## Задание 1 (3 балла)"
   ]
  },
  {
   "cell_type": "markdown",
   "id": "4a045e99",
   "metadata": {},
   "source": [
    "У векторайзеров в sklearn есть встроенная токенизация на регулярных выражениях. Найдите способо заменить её на кастомную токенизацию"
   ]
  },
  {
   "cell_type": "markdown",
   "id": "90b4d453",
   "metadata": {},
   "source": [
    "Обучите векторайзер с дефолтной токенизацией и с токенизацией razdel.tokenize. Обучите классификатор с каждым из векторизаторов. Сравните метрики и выберете победителя. \n",
    "\n",
    "(в вашей тетрадке должен быть код обучения и все метрики; если вы сдаете в .py файлах то сохраните полученные метрики в отдельном файле или в комментариях)"
   ]
  },
  {
   "cell_type": "code",
   "execution_count": 6,
   "id": "bab9ae0a",
   "metadata": {},
   "outputs": [],
   "source": [
    "from sklearn.feature_extraction.text import CountVectorizer, TfidfVectorizer\n",
    "from sklearn.linear_model import LogisticRegression\n",
    "from sklearn.tree import DecisionTreeClassifier\n",
    "from sklearn.neighbors import KNeighborsClassifier\n",
    "from sklearn.naive_bayes import MultinomialNB\n",
    "from sklearn.ensemble import RandomForestClassifier\n",
    "from sklearn.model_selection import train_test_split\n",
    "from sklearn.metrics import classification_report, accuracy_score\n",
    "from sklearn.metrics.pairwise import cosine_distances, cosine_similarity"
   ]
  },
  {
   "cell_type": "code",
   "execution_count": 2,
   "id": "129c4d2e",
   "metadata": {},
   "outputs": [],
   "source": [
    "import pandas as pd"
   ]
  },
  {
   "cell_type": "code",
   "execution_count": 723,
   "id": "17411c2f",
   "metadata": {},
   "outputs": [],
   "source": [
    "import numpy as np"
   ]
  },
  {
   "cell_type": "code",
   "execution_count": 619,
   "id": "8bbc2365",
   "metadata": {},
   "outputs": [],
   "source": [
    "toxic = pd.read_csv('labeled.csv')"
   ]
  },
  {
   "cell_type": "code",
   "execution_count": 620,
   "id": "9c884549",
   "metadata": {},
   "outputs": [
    {
     "data": {
      "text/html": [
       "<div>\n",
       "<style scoped>\n",
       "    .dataframe tbody tr th:only-of-type {\n",
       "        vertical-align: middle;\n",
       "    }\n",
       "\n",
       "    .dataframe tbody tr th {\n",
       "        vertical-align: top;\n",
       "    }\n",
       "\n",
       "    .dataframe thead th {\n",
       "        text-align: right;\n",
       "    }\n",
       "</style>\n",
       "<table border=\"1\" class=\"dataframe\">\n",
       "  <thead>\n",
       "    <tr style=\"text-align: right;\">\n",
       "      <th></th>\n",
       "      <th>comment</th>\n",
       "      <th>toxic</th>\n",
       "    </tr>\n",
       "  </thead>\n",
       "  <tbody>\n",
       "    <tr>\n",
       "      <th>0</th>\n",
       "      <td>Верблюдов-то за что? Дебилы, бл...\\n</td>\n",
       "      <td>1.0</td>\n",
       "    </tr>\n",
       "    <tr>\n",
       "      <th>1</th>\n",
       "      <td>Хохлы, это отдушина затюканого россиянина, мол...</td>\n",
       "      <td>1.0</td>\n",
       "    </tr>\n",
       "    <tr>\n",
       "      <th>2</th>\n",
       "      <td>Собаке - собачья смерть\\n</td>\n",
       "      <td>1.0</td>\n",
       "    </tr>\n",
       "    <tr>\n",
       "      <th>3</th>\n",
       "      <td>Страницу обнови, дебил. Это тоже не оскорблени...</td>\n",
       "      <td>1.0</td>\n",
       "    </tr>\n",
       "    <tr>\n",
       "      <th>4</th>\n",
       "      <td>тебя не убедил 6-страничный пдф в том, что Скр...</td>\n",
       "      <td>1.0</td>\n",
       "    </tr>\n",
       "  </tbody>\n",
       "</table>\n",
       "</div>"
      ],
      "text/plain": [
       "                                             comment  toxic\n",
       "0               Верблюдов-то за что? Дебилы, бл...\\n    1.0\n",
       "1  Хохлы, это отдушина затюканого россиянина, мол...    1.0\n",
       "2                          Собаке - собачья смерть\\n    1.0\n",
       "3  Страницу обнови, дебил. Это тоже не оскорблени...    1.0\n",
       "4  тебя не убедил 6-страничный пдф в том, что Скр...    1.0"
      ]
     },
     "execution_count": 620,
     "metadata": {},
     "output_type": "execute_result"
    }
   ],
   "source": [
    "toxic.head()"
   ]
  },
  {
   "cell_type": "code",
   "execution_count": 657,
   "id": "01341538",
   "metadata": {},
   "outputs": [],
   "source": [
    "train, test = train_test_split(toxic, test_size=0.2, shuffle=True, random_state=255)\n",
    "train.reset_index(inplace=True, drop=True)\n",
    "test.reset_index(inplace=True, drop=True)"
   ]
  },
  {
   "cell_type": "markdown",
   "id": "6dfcbcd0",
   "metadata": {},
   "source": [
    "#### Векторайзер с дефолтной токенизацией"
   ]
  },
  {
   "cell_type": "code",
   "execution_count": 210,
   "id": "e694f8a7",
   "metadata": {},
   "outputs": [],
   "source": [
    "vectorizer = TfidfVectorizer(min_df=5, max_df=0.2)\n",
    "X = vectorizer.fit_transform(train.comment)"
   ]
  },
  {
   "cell_type": "code",
   "execution_count": 211,
   "id": "cf4a6dcb",
   "metadata": {},
   "outputs": [
    {
     "data": {
      "text/plain": [
       "(11529, 6707)"
      ]
     },
     "execution_count": 211,
     "metadata": {},
     "output_type": "execute_result"
    }
   ],
   "source": [
    "X.shape"
   ]
  },
  {
   "cell_type": "code",
   "execution_count": 212,
   "id": "00e57f14",
   "metadata": {},
   "outputs": [],
   "source": [
    "X_test = vectorizer.transform(test.comment)"
   ]
  },
  {
   "cell_type": "code",
   "execution_count": 213,
   "id": "ff371573",
   "metadata": {},
   "outputs": [],
   "source": [
    "y = train.toxic.values\n",
    "y_test = test.toxic.values"
   ]
  },
  {
   "cell_type": "code",
   "execution_count": 214,
   "id": "b77cb7df",
   "metadata": {},
   "outputs": [
    {
     "name": "stdout",
     "output_type": "stream",
     "text": [
      "              precision    recall  f1-score   support\n",
      "\n",
      "         0.0       0.87      0.33      0.48      1925\n",
      "         1.0       0.40      0.90      0.56       958\n",
      "\n",
      "    accuracy                           0.52      2883\n",
      "   macro avg       0.64      0.62      0.52      2883\n",
      "weighted avg       0.72      0.52      0.50      2883\n",
      "\n"
     ]
    }
   ],
   "source": [
    "clf = DecisionTreeClassifier(max_depth=8, class_weight='balanced')\n",
    "clf.fit(X, y)\n",
    "preds = clf.predict(X_test)\n",
    "\n",
    "print(classification_report(y_test, preds))"
   ]
  },
  {
   "cell_type": "markdown",
   "id": "9ced40ed",
   "metadata": {},
   "source": [
    "#### Векторайзер с токенизацией из razdel"
   ]
  },
  {
   "cell_type": "code",
   "execution_count": 215,
   "id": "970b4866",
   "metadata": {},
   "outputs": [
    {
     "name": "stdout",
     "output_type": "stream",
     "text": [
      "Requirement already satisfied: razdel in c:\\users\\katri\\anaconda3\\lib\\site-packages (0.5.0)\n"
     ]
    }
   ],
   "source": [
    "!pip install razdel"
   ]
  },
  {
   "cell_type": "code",
   "execution_count": 216,
   "id": "3df99cf4",
   "metadata": {},
   "outputs": [],
   "source": [
    "from razdel import tokenize"
   ]
  },
  {
   "cell_type": "code",
   "execution_count": 217,
   "id": "3fc5e171",
   "metadata": {},
   "outputs": [],
   "source": [
    "def my_tokenizer(text):\n",
    "    tokens = list(tokenize(text))\n",
    "    return [_.text for _ in tokens]"
   ]
  },
  {
   "cell_type": "code",
   "execution_count": 218,
   "id": "dc90dbfa",
   "metadata": {},
   "outputs": [],
   "source": [
    "vectorizer_razdel = TfidfVectorizer(min_df=5, max_df=0.2, tokenizer=my_tokenizer)\n",
    "X_1 = vectorizer_razdel.fit_transform(train.comment)"
   ]
  },
  {
   "cell_type": "code",
   "execution_count": 219,
   "id": "849e4b29",
   "metadata": {},
   "outputs": [
    {
     "data": {
      "text/plain": [
       "(11529, 6756)"
      ]
     },
     "execution_count": 219,
     "metadata": {},
     "output_type": "execute_result"
    }
   ],
   "source": [
    "X_1.shape"
   ]
  },
  {
   "cell_type": "code",
   "execution_count": 220,
   "id": "7170129b",
   "metadata": {},
   "outputs": [],
   "source": [
    "X_test_1 = vectorizer_razdel.transform(test.comment)"
   ]
  },
  {
   "cell_type": "code",
   "execution_count": 221,
   "id": "703bec13",
   "metadata": {},
   "outputs": [],
   "source": [
    "y_1 = train.toxic.values\n",
    "y_test_1 = test.toxic.values"
   ]
  },
  {
   "cell_type": "code",
   "execution_count": 222,
   "id": "87aa8afb",
   "metadata": {},
   "outputs": [
    {
     "name": "stdout",
     "output_type": "stream",
     "text": [
      "              precision    recall  f1-score   support\n",
      "\n",
      "         0.0       0.87      0.42      0.56      1925\n",
      "         1.0       0.43      0.87      0.57       958\n",
      "\n",
      "    accuracy                           0.57      2883\n",
      "   macro avg       0.65      0.64      0.57      2883\n",
      "weighted avg       0.72      0.57      0.57      2883\n",
      "\n"
     ]
    }
   ],
   "source": [
    "clf_razdel = DecisionTreeClassifier(max_depth=8, class_weight='balanced')\n",
    "clf_razdel.fit(X_1, y_1)\n",
    "preds = clf_razdel.predict(X_test_1)\n",
    "\n",
    "print(classification_report(y_test_1, preds))"
   ]
  },
  {
   "cell_type": "markdown",
   "id": "c011f24b",
   "metadata": {},
   "source": [
    "Качество классификатора с кастомным токенайзером из razdel выше, конкурировать может только показатель полноты по классам, но overall метрики очевидно возросли (но не сильно)"
   ]
  },
  {
   "cell_type": "markdown",
   "id": "1ffa9f76",
   "metadata": {},
   "source": [
    "## Задание 2 (3 балла)"
   ]
  },
  {
   "cell_type": "markdown",
   "id": "5f358949",
   "metadata": {},
   "source": [
    "Преобразуйте таблицу с абсолютными частотностями в семинарской тетрадке в таблицу с tfidf значениями. (Таблица - https://i.ibb.co/r5Nc2HC/abs-bow.jpg) Формула tfidf есть в семинаре на картнике с пояснениями на английском. \n",
    "Считать нужно в питоне. Формат итоговой таблицы может быть любым, главное, чтобы был код и можно было воспроизвести вычисления. "
   ]
  },
  {
   "cell_type": "code",
   "execution_count": 187,
   "id": "c6b45eaa",
   "metadata": {},
   "outputs": [],
   "source": [
    "import math"
   ]
  },
  {
   "cell_type": "code",
   "execution_count": 188,
   "id": "c5b50abc",
   "metadata": {},
   "outputs": [
    {
     "data": {
      "text/html": [
       "<div>\n",
       "<style scoped>\n",
       "    .dataframe tbody tr th:only-of-type {\n",
       "        vertical-align: middle;\n",
       "    }\n",
       "\n",
       "    .dataframe tbody tr th {\n",
       "        vertical-align: top;\n",
       "    }\n",
       "\n",
       "    .dataframe thead th {\n",
       "        text-align: right;\n",
       "    }\n",
       "</style>\n",
       "<table border=\"1\" class=\"dataframe\">\n",
       "  <thead>\n",
       "    <tr style=\"text-align: right;\">\n",
       "      <th></th>\n",
       "      <th>я</th>\n",
       "      <th>ты</th>\n",
       "      <th>и</th>\n",
       "      <th>только</th>\n",
       "      <th>не</th>\n",
       "      <th>он</th>\n",
       "    </tr>\n",
       "  </thead>\n",
       "  <tbody>\n",
       "    <tr>\n",
       "      <th>я и ты</th>\n",
       "      <td>1</td>\n",
       "      <td>1</td>\n",
       "      <td>1</td>\n",
       "      <td>0</td>\n",
       "      <td>0</td>\n",
       "      <td>0</td>\n",
       "    </tr>\n",
       "    <tr>\n",
       "      <th>ты и я</th>\n",
       "      <td>1</td>\n",
       "      <td>1</td>\n",
       "      <td>1</td>\n",
       "      <td>0</td>\n",
       "      <td>0</td>\n",
       "      <td>0</td>\n",
       "    </tr>\n",
       "    <tr>\n",
       "      <th>я, я и только я</th>\n",
       "      <td>3</td>\n",
       "      <td>0</td>\n",
       "      <td>1</td>\n",
       "      <td>1</td>\n",
       "      <td>0</td>\n",
       "      <td>0</td>\n",
       "    </tr>\n",
       "    <tr>\n",
       "      <th>только не я</th>\n",
       "      <td>1</td>\n",
       "      <td>0</td>\n",
       "      <td>0</td>\n",
       "      <td>1</td>\n",
       "      <td>1</td>\n",
       "      <td>0</td>\n",
       "    </tr>\n",
       "    <tr>\n",
       "      <th>он</th>\n",
       "      <td>0</td>\n",
       "      <td>0</td>\n",
       "      <td>0</td>\n",
       "      <td>0</td>\n",
       "      <td>0</td>\n",
       "      <td>1</td>\n",
       "    </tr>\n",
       "  </tbody>\n",
       "</table>\n",
       "</div>"
      ],
      "text/plain": [
       "                 я  ты  и  только  не  он\n",
       "я и ты           1   1  1       0   0   0\n",
       "ты и я           1   1  1       0   0   0\n",
       "я, я и только я  3   0  1       1   0   0\n",
       "только не я      1   0  0       1   1   0\n",
       "он               0   0  0       0   0   1"
      ]
     },
     "execution_count": 188,
     "metadata": {},
     "output_type": "execute_result"
    }
   ],
   "source": [
    "data = pd.read_csv('tfidf_sample.txt', sep='\\t', names=['я', 'ты', 'и', 'только', 'не', 'он'], header=0, index_col=0)\n",
    "data.head()"
   ]
  },
  {
   "cell_type": "code",
   "execution_count": 189,
   "id": "cb16619f",
   "metadata": {},
   "outputs": [],
   "source": [
    "N = len(data)"
   ]
  },
  {
   "cell_type": "code",
   "execution_count": 190,
   "id": "43b2d2e2",
   "metadata": {},
   "outputs": [],
   "source": [
    "def count_tfidf(word, num_row):\n",
    "    tf = data.loc[num_row][word] / sum(data.loc[num_row])\n",
    "    df = sum(data[word] > 0)\n",
    "    return tf * math.log(N / df)"
   ]
  },
  {
   "cell_type": "code",
   "execution_count": 191,
   "id": "920d4e66",
   "metadata": {},
   "outputs": [],
   "source": [
    "data_new = pd.DataFrame(columns=data.columns)"
   ]
  },
  {
   "cell_type": "code",
   "execution_count": 192,
   "id": "59fe9380",
   "metadata": {},
   "outputs": [],
   "source": [
    "for row in data.iterrows():\n",
    "    one_line = []\n",
    "    for title in row[1].keys():\n",
    "        one_line.append(count_tfidf(title, row[0]))\n",
    "    data_new.loc[row[0]] = one_line"
   ]
  },
  {
   "cell_type": "code",
   "execution_count": 193,
   "id": "1b2b2fc6",
   "metadata": {},
   "outputs": [
    {
     "data": {
      "text/html": [
       "<div>\n",
       "<style scoped>\n",
       "    .dataframe tbody tr th:only-of-type {\n",
       "        vertical-align: middle;\n",
       "    }\n",
       "\n",
       "    .dataframe tbody tr th {\n",
       "        vertical-align: top;\n",
       "    }\n",
       "\n",
       "    .dataframe thead th {\n",
       "        text-align: right;\n",
       "    }\n",
       "</style>\n",
       "<table border=\"1\" class=\"dataframe\">\n",
       "  <thead>\n",
       "    <tr style=\"text-align: right;\">\n",
       "      <th></th>\n",
       "      <th>я</th>\n",
       "      <th>ты</th>\n",
       "      <th>и</th>\n",
       "      <th>только</th>\n",
       "      <th>не</th>\n",
       "      <th>он</th>\n",
       "    </tr>\n",
       "  </thead>\n",
       "  <tbody>\n",
       "    <tr>\n",
       "      <th>я и ты</th>\n",
       "      <td>0.074381</td>\n",
       "      <td>0.30543</td>\n",
       "      <td>0.170275</td>\n",
       "      <td>0.000000</td>\n",
       "      <td>0.000000</td>\n",
       "      <td>0.000000</td>\n",
       "    </tr>\n",
       "    <tr>\n",
       "      <th>ты и я</th>\n",
       "      <td>0.074381</td>\n",
       "      <td>0.30543</td>\n",
       "      <td>0.170275</td>\n",
       "      <td>0.000000</td>\n",
       "      <td>0.000000</td>\n",
       "      <td>0.000000</td>\n",
       "    </tr>\n",
       "    <tr>\n",
       "      <th>я, я и только я</th>\n",
       "      <td>0.133886</td>\n",
       "      <td>0.00000</td>\n",
       "      <td>0.102165</td>\n",
       "      <td>0.183258</td>\n",
       "      <td>0.000000</td>\n",
       "      <td>0.000000</td>\n",
       "    </tr>\n",
       "    <tr>\n",
       "      <th>только не я</th>\n",
       "      <td>0.074381</td>\n",
       "      <td>0.00000</td>\n",
       "      <td>0.000000</td>\n",
       "      <td>0.305430</td>\n",
       "      <td>0.536479</td>\n",
       "      <td>0.000000</td>\n",
       "    </tr>\n",
       "    <tr>\n",
       "      <th>он</th>\n",
       "      <td>0.000000</td>\n",
       "      <td>0.00000</td>\n",
       "      <td>0.000000</td>\n",
       "      <td>0.000000</td>\n",
       "      <td>0.000000</td>\n",
       "      <td>1.609438</td>\n",
       "    </tr>\n",
       "  </tbody>\n",
       "</table>\n",
       "</div>"
      ],
      "text/plain": [
       "                        я       ты         и    только        не        он\n",
       "я и ты           0.074381  0.30543  0.170275  0.000000  0.000000  0.000000\n",
       "ты и я           0.074381  0.30543  0.170275  0.000000  0.000000  0.000000\n",
       "я, я и только я  0.133886  0.00000  0.102165  0.183258  0.000000  0.000000\n",
       "только не я      0.074381  0.00000  0.000000  0.305430  0.536479  0.000000\n",
       "он               0.000000  0.00000  0.000000  0.000000  0.000000  1.609438"
      ]
     },
     "execution_count": 193,
     "metadata": {},
     "output_type": "execute_result"
    }
   ],
   "source": [
    "data_new"
   ]
  },
  {
   "cell_type": "markdown",
   "id": "2f5bc8de",
   "metadata": {},
   "source": [
    "## Задание 3 (2 балла)"
   ]
  },
  {
   "cell_type": "markdown",
   "id": "f8961bbf",
   "metadata": {},
   "source": [
    "Обучите 2 любых разных классификатора из семинара. Предскажите токсичность для текстов из тестовой выборки (используйте одну и ту же выборку для обоих классификаторов) и найдите 10 самых токсичных для каждого из классификаторов. Сравните получаемые тексты - какие тексты совпадают, какие отличаются, правда ли тексты токсичные?"
   ]
  },
  {
   "cell_type": "markdown",
   "id": "b46681ef",
   "metadata": {},
   "source": [
    "Требования к классификаторам:   \n",
    "а) один должен использовать CountVectorizer, другой TfidfVectorizer  \n",
    "б) у векторазера должны быть вручную заданы как минимум 5 параметров  \n",
    "в) у классификатора должно быть задано вручную как минимум 2 параметра  \n",
    "г)  f1 мера каждого из классификаторов должна быть минимум 0.75  "
   ]
  },
  {
   "cell_type": "code",
   "execution_count": 659,
   "id": "7cd916f1",
   "metadata": {},
   "outputs": [
    {
     "data": {
      "text/html": [
       "<div>\n",
       "<style scoped>\n",
       "    .dataframe tbody tr th:only-of-type {\n",
       "        vertical-align: middle;\n",
       "    }\n",
       "\n",
       "    .dataframe tbody tr th {\n",
       "        vertical-align: top;\n",
       "    }\n",
       "\n",
       "    .dataframe thead th {\n",
       "        text-align: right;\n",
       "    }\n",
       "</style>\n",
       "<table border=\"1\" class=\"dataframe\">\n",
       "  <thead>\n",
       "    <tr style=\"text-align: right;\">\n",
       "      <th></th>\n",
       "      <th>comment</th>\n",
       "      <th>toxic</th>\n",
       "    </tr>\n",
       "  </thead>\n",
       "  <tbody>\n",
       "    <tr>\n",
       "      <th>0</th>\n",
       "      <td>Первый раз вижу чтобы в рецепт блинов кто-то д...</td>\n",
       "      <td>0.0</td>\n",
       "    </tr>\n",
       "    <tr>\n",
       "      <th>1</th>\n",
       "      <td>А если на конкретных людей в суд подавать,а не...</td>\n",
       "      <td>0.0</td>\n",
       "    </tr>\n",
       "    <tr>\n",
       "      <th>2</th>\n",
       "      <td>Железнодорожники вообще закрытая каста, госуда...</td>\n",
       "      <td>0.0</td>\n",
       "    </tr>\n",
       "    <tr>\n",
       "      <th>3</th>\n",
       "      <td>А, вот, нагуглилось - видосик сверху Ну да, вы...</td>\n",
       "      <td>0.0</td>\n",
       "    </tr>\n",
       "    <tr>\n",
       "      <th>4</th>\n",
       "      <td>Лучше что-то среднее между двумя частями. Перв...</td>\n",
       "      <td>0.0</td>\n",
       "    </tr>\n",
       "  </tbody>\n",
       "</table>\n",
       "</div>"
      ],
      "text/plain": [
       "                                             comment  toxic\n",
       "0  Первый раз вижу чтобы в рецепт блинов кто-то д...    0.0\n",
       "1  А если на конкретных людей в суд подавать,а не...    0.0\n",
       "2  Железнодорожники вообще закрытая каста, госуда...    0.0\n",
       "3  А, вот, нагуглилось - видосик сверху Ну да, вы...    0.0\n",
       "4  Лучше что-то среднее между двумя частями. Перв...    0.0"
      ]
     },
     "execution_count": 659,
     "metadata": {},
     "output_type": "execute_result"
    }
   ],
   "source": [
    "train.head()"
   ]
  },
  {
   "cell_type": "markdown",
   "id": "f681f302",
   "metadata": {},
   "source": [
    "`train, test = train_test_split(toxic, test_size=0.2, shuffle=True)\n",
    "train.reset_index(inplace=True, drop=True)\n",
    "test.reset_index(inplace=True, drop=True)`"
   ]
  },
  {
   "cell_type": "code",
   "execution_count": 331,
   "id": "22ebb90d",
   "metadata": {},
   "outputs": [
    {
     "name": "stderr",
     "output_type": "stream",
     "text": [
      "[nltk_data] Downloading package stopwords to\n",
      "[nltk_data]     C:\\Users\\katri\\AppData\\Roaming\\nltk_data...\n",
      "[nltk_data]   Unzipping corpora\\stopwords.zip.\n"
     ]
    },
    {
     "data": {
      "text/plain": [
       "True"
      ]
     },
     "execution_count": 331,
     "metadata": {},
     "output_type": "execute_result"
    }
   ],
   "source": [
    "import nltk\n",
    "nltk.download('stopwords')"
   ]
  },
  {
   "cell_type": "code",
   "execution_count": 333,
   "id": "1c52446d",
   "metadata": {},
   "outputs": [],
   "source": [
    "from nltk.corpus import stopwords"
   ]
  },
  {
   "cell_type": "markdown",
   "id": "2b55775f",
   "metadata": {},
   "source": [
    "#### Классификатор 1"
   ]
  },
  {
   "cell_type": "code",
   "execution_count": 664,
   "id": "c0efd9c8",
   "metadata": {},
   "outputs": [
    {
     "data": {
      "text/plain": [
       "((11529, 2), (2883, 2))"
      ]
     },
     "execution_count": 664,
     "metadata": {},
     "output_type": "execute_result"
    }
   ],
   "source": [
    "train.shape, test.shape"
   ]
  },
  {
   "cell_type": "code",
   "execution_count": 841,
   "id": "80d59c2c",
   "metadata": {},
   "outputs": [],
   "source": [
    "# stopwords из nltk и токенайзер из razdel снижали качество\n",
    "# все параметры пробовала менять, если стоит дефолтный - значит с кастомным становилось хуже\n",
    "# Например, ngram_range=(1, 2)/(2, 2), analyzer='char'/'char_wb', lowercase=False\n",
    "count_vectorizer = CountVectorizer(lowercase=True,\n",
    "                             max_df=0.1,\n",
    "                             min_df=3,\n",
    "                             ngram_range=(1, 1),\n",
    "                             analyzer='word',\n",
    "                            stop_words=stopwords.words('russian'))\n",
    "Xc = count_vectorizer.fit_transform(train.comment)"
   ]
  },
  {
   "cell_type": "code",
   "execution_count": 842,
   "id": "ffcce691",
   "metadata": {},
   "outputs": [],
   "source": [
    "Xc_test = count_vectorizer.transform(test.comment)"
   ]
  },
  {
   "cell_type": "code",
   "execution_count": 843,
   "id": "7ed397b5",
   "metadata": {},
   "outputs": [],
   "source": [
    "yc = train.toxic.values\n",
    "yc_test = test.toxic.values"
   ]
  },
  {
   "cell_type": "code",
   "execution_count": 844,
   "id": "be5342a8",
   "metadata": {},
   "outputs": [
    {
     "name": "stdout",
     "output_type": "stream",
     "text": [
      "              precision    recall  f1-score   support\n",
      "\n",
      "         0.0       0.87      0.92      0.90      1925\n",
      "         1.0       0.82      0.73      0.77       958\n",
      "\n",
      "    accuracy                           0.86      2883\n",
      "   macro avg       0.85      0.83      0.83      2883\n",
      "weighted avg       0.86      0.86      0.86      2883\n",
      "\n"
     ]
    }
   ],
   "source": [
    "clf_NB = MultinomialNB(alpha=1., fit_prior=True)\n",
    "clf_NB.fit(Xc, yc)\n",
    "preds = clf_NB.predict(Xc_test)\n",
    "\n",
    "print(classification_report(yc_test, preds))"
   ]
  },
  {
   "cell_type": "code",
   "execution_count": 845,
   "id": "f4909b2f",
   "metadata": {},
   "outputs": [],
   "source": [
    "probas_NB = clf_NB.predict_proba(Xc_test)"
   ]
  },
  {
   "cell_type": "code",
   "execution_count": 846,
   "id": "4c679e69",
   "metadata": {},
   "outputs": [
    {
     "data": {
      "text/html": [
       "<div>\n",
       "<style scoped>\n",
       "    .dataframe tbody tr th:only-of-type {\n",
       "        vertical-align: middle;\n",
       "    }\n",
       "\n",
       "    .dataframe tbody tr th {\n",
       "        vertical-align: top;\n",
       "    }\n",
       "\n",
       "    .dataframe thead th {\n",
       "        text-align: right;\n",
       "    }\n",
       "</style>\n",
       "<table border=\"1\" class=\"dataframe\">\n",
       "  <thead>\n",
       "    <tr style=\"text-align: right;\">\n",
       "      <th></th>\n",
       "      <th>comment</th>\n",
       "      <th>toxic</th>\n",
       "    </tr>\n",
       "  </thead>\n",
       "  <tbody>\n",
       "    <tr>\n",
       "      <th>774</th>\n",
       "      <td>Могли абонемент к шлюхе гораздо лучшего качест...</td>\n",
       "      <td>1.0</td>\n",
       "    </tr>\n",
       "    <tr>\n",
       "      <th>480</th>\n",
       "      <td>Все согласны, блядь. Всем по полному ебучему з...</td>\n",
       "      <td>0.0</td>\n",
       "    </tr>\n",
       "    <tr>\n",
       "      <th>2289</th>\n",
       "      <td>Ну так я же не предлагаю перекатываться на дру...</td>\n",
       "      <td>0.0</td>\n",
       "    </tr>\n",
       "    <tr>\n",
       "      <th>2658</th>\n",
       "      <td>Ебать, кто смотрит сыромятникова?? Где еще мож...</td>\n",
       "      <td>1.0</td>\n",
       "    </tr>\n",
       "    <tr>\n",
       "      <th>709</th>\n",
       "      <td>Стас, никому, кроме тебя и армии твоих подсосо...</td>\n",
       "      <td>1.0</td>\n",
       "    </tr>\n",
       "    <tr>\n",
       "      <th>1883</th>\n",
       "      <td>Стас, никому, кроме тебя и армии твоих подсосо...</td>\n",
       "      <td>1.0</td>\n",
       "    </tr>\n",
       "    <tr>\n",
       "      <th>2507</th>\n",
       "      <td>Но Трамп и в правда дегенерат. Жаль, что этот ...</td>\n",
       "      <td>1.0</td>\n",
       "    </tr>\n",
       "    <tr>\n",
       "      <th>2455</th>\n",
       "      <td>ты, блять, троллишь чтоли или просто перепутал...</td>\n",
       "      <td>1.0</td>\n",
       "    </tr>\n",
       "    <tr>\n",
       "      <th>1551</th>\n",
       "      <td>Блеаадь, как же обидно когда создаешь тред, па...</td>\n",
       "      <td>1.0</td>\n",
       "    </tr>\n",
       "    <tr>\n",
       "      <th>801</th>\n",
       "      <td>АЛЛО БЛЯДЬ АБУ ТЫ Ч ОХУЕЛ? ВЫГОНЯЙ НАХУЙ СВОЕГ...</td>\n",
       "      <td>1.0</td>\n",
       "    </tr>\n",
       "  </tbody>\n",
       "</table>\n",
       "</div>"
      ],
      "text/plain": [
       "                                                comment  toxic\n",
       "774   Могли абонемент к шлюхе гораздо лучшего качест...    1.0\n",
       "480   Все согласны, блядь. Всем по полному ебучему з...    0.0\n",
       "2289  Ну так я же не предлагаю перекатываться на дру...    0.0\n",
       "2658  Ебать, кто смотрит сыромятникова?? Где еще мож...    1.0\n",
       "709   Стас, никому, кроме тебя и армии твоих подсосо...    1.0\n",
       "1883  Стас, никому, кроме тебя и армии твоих подсосо...    1.0\n",
       "2507  Но Трамп и в правда дегенерат. Жаль, что этот ...    1.0\n",
       "2455  ты, блять, троллишь чтоли или просто перепутал...    1.0\n",
       "1551  Блеаадь, как же обидно когда создаешь тред, па...    1.0\n",
       "801   АЛЛО БЛЯДЬ АБУ ТЫ Ч ОХУЕЛ? ВЫГОНЯЙ НАХУЙ СВОЕГ...    1.0"
      ]
     },
     "execution_count": 846,
     "metadata": {},
     "output_type": "execute_result"
    }
   ],
   "source": [
    "top10 = test.iloc[np.argsort(probas_NB[:, 1])[-10:]]\n",
    "top10"
   ]
  },
  {
   "cell_type": "code",
   "execution_count": 847,
   "id": "144854de",
   "metadata": {},
   "outputs": [
    {
     "name": "stdout",
     "output_type": "stream",
     "text": [
      "Все согласны, блядь. Всем по полному ебучему завтраку, подводит итог Бегби. Рентон не верит своим ушам. Ему хочется послать Бегби на хуй. Но он перебарывает этот порыв и только медленно качает головой: Я не ем мяса, Франко. баное вегетарианство. баный пиздёж. Ты должен есть мясо. баный торчок заботится, на хуй, о том, что он вводит в свой в организм! Я угораю, бля! Просто я не люблю мяса, отвечает Рентон, чувствуя себя полным дураком, и все начинают хихикать. Только не пизди мне о том, что тебе жалко ёбаных животных. Вспомни тех ёбаных собак и кошек, в которых мы с тобой, на хуй, стреляли из духовых ружбаек! А ещё ёбаных голубей, которых мы жгли живьём. Этот чувак делал ебучие шутихи типа как фейерверки из белых мышей. Мне не жалко животных. Просто я не могу их есть, Рентон пожимает плечами, смущённый тем, что Келли узнала о его подростковых зверствах. Бессердечные ублюдки. Не представляю, как можно выстрелить в собаку, ехидничает Элисон, качая головой. А я не представляю себе, как можно убить и съесть свинью, Рентон показывает на бекон и сосиску у неё на тарелке. Это разные вещи. Картошка озирается вокруг: Это, э, это самое Рентс поступает правильно, но только типа как неправильно объясняет. Мы никогда, это самое, не научимся любить друг друга, если не будем заботиться о тех, кто слабее нас, это самое, животных там, и всё такое но хорошо, что Рентс вегетарианец это самое, если ты можешь воздерживаться это самое Бегби неуклюже трясётся всем телом и жестом заставляет Картошку замолчать. Остальные смеются. Рентон, благодарный Картошке за попытку поддержать его, вмешивается, чтобы перевести огонь на себя. Дело не в воздержании. Просто я терпеть не могу мяса. Меня от него тошнит. Вот и всё. И всё равно я говорю, блядь, что ты хочешь всё, на хуй, пересрать. Почему? Потому что я так сказал, блядь, вот почему, на хуй! шипит Бегби, показывая на себя. Рентон опять пожимает плечами. Спорить дальше нет смысла. Самые эгоистичные люди - это вегетарианцы, да.\n",
      "\n",
      "Ну так я же не предлагаю перекатываться на другие доски. Ты как раз таки предлагаешь перекатиться на другую доску - 2d . Я не очень понимаю, зачем нужно это копротивление, когда всё можно сделать нормально. Может потому что макака и мочерня охуели тем, что превратили b , доску без правил как бы, в анально-модерируемую хуйню? Какого хуя я должен идти в мертвый a или 2d с постингом 120 постов час и 30 постов час соответственно? Почему я должен пытаться оживлять то, что мертво? Куклы и кони вот нормально сидят и общаются в своих разделах. Ты видел rm ? 0 постов час. В mlp 5 постов в час. Охуенное общение. Уровень нонейм мелкоборд. Я это всё к чему, анимублядский не может жить в тематике, так как тематика всегда модерируется сильнее, чем b и в тематике есть правила. Как ты думаешь, почему в мп4 вебм тред в анимаче пошло максимум 30 от всех пидорнутых из анимублядского? Потому что там анальная модерация похуже нынешнего аниме-треда в b - это во-первых. Во-вторых - относительно низкий постинг и слабый приток новых лиц. В b же, анимублядский будет постоянно иметь нормальный постинг, новые аноны будут постоянно интересоваться, что это за анимублядский. Сам в 2015 зашел посмотреть, что это за тредик такой, и начал смотреть аниме и анимублядствовать. Сам даже две вебмки сделал.\n",
      "\n"
     ]
    }
   ],
   "source": [
    "for i in top10[top10['toxic'] == 0]['comment']:\n",
    "    print(i)"
   ]
  },
  {
   "cell_type": "markdown",
   "id": "5cbda4fc",
   "metadata": {},
   "source": [
    "Результат неплохой, оба комментария вообще довольно агрессивные, в них много мата, окрашенных слов, разных оскорбительных модификаций"
   ]
  },
  {
   "cell_type": "markdown",
   "id": "2a38a4a9",
   "metadata": {},
   "source": [
    "Просто посмотреть на важность признаков:"
   ]
  },
  {
   "cell_type": "code",
   "execution_count": 849,
   "id": "48abc640",
   "metadata": {},
   "outputs": [
    {
     "name": "stdout",
     "output_type": "stream",
     "text": [
      "['просто' 'тебе' 'всё' 'вообще' 'почему' 'ещё' 'хохлы' 'нахуй' 'лет'\n",
      " 'хохлов']\n"
     ]
    }
   ],
   "source": [
    "print(np.take(count_vectorizer.get_feature_names(), clf_NB.feature_log_prob_[1, :].argsort()[::-1][:10]))"
   ]
  },
  {
   "cell_type": "markdown",
   "id": "0767c68f",
   "metadata": {},
   "source": [
    "#### Классификатор 2"
   ]
  },
  {
   "cell_type": "code",
   "execution_count": 903,
   "id": "6994edcd",
   "metadata": {},
   "outputs": [],
   "source": [
    "tfidf_vectorizer = TfidfVectorizer(lowercase=True,\n",
    "                                   max_df=0.2,\n",
    "                                   min_df=2,\n",
    "                                   analyzer='word',\n",
    "                                   tokenizer=my_tokenizer)\n",
    "Xt = tfidf_vectorizer.fit_transform(train.comment)"
   ]
  },
  {
   "cell_type": "code",
   "execution_count": 904,
   "id": "e89a0443",
   "metadata": {},
   "outputs": [],
   "source": [
    "Xt_test = tfidf_vectorizer.transform(test.comment)"
   ]
  },
  {
   "cell_type": "code",
   "execution_count": 905,
   "id": "03769517",
   "metadata": {},
   "outputs": [],
   "source": [
    "yt = train.toxic.values\n",
    "yt_test = test.toxic.values"
   ]
  },
  {
   "cell_type": "code",
   "execution_count": 906,
   "id": "765d261d",
   "metadata": {},
   "outputs": [
    {
     "name": "stdout",
     "output_type": "stream",
     "text": [
      "              precision    recall  f1-score   support\n",
      "\n",
      "         0.0       0.87      0.89      0.88      1925\n",
      "         1.0       0.76      0.73      0.75       958\n",
      "\n",
      "    accuracy                           0.83      2883\n",
      "   macro avg       0.82      0.81      0.81      2883\n",
      "weighted avg       0.83      0.83      0.83      2883\n",
      "\n"
     ]
    }
   ],
   "source": [
    "clf_KN = KNeighborsClassifier(n_neighbors=15, weights='distance', metric='cosine')\n",
    "clf_KN.fit(Xt, yt)\n",
    "preds = clf_KN.predict(Xt_test)\n",
    "\n",
    "print(classification_report(yt_test, preds))"
   ]
  },
  {
   "cell_type": "code",
   "execution_count": 907,
   "id": "9d7014c4",
   "metadata": {},
   "outputs": [],
   "source": [
    "probas_KN = clf_KN.predict_proba(Xt_test)"
   ]
  },
  {
   "cell_type": "code",
   "execution_count": 908,
   "id": "384dce07",
   "metadata": {},
   "outputs": [
    {
     "data": {
      "text/html": [
       "<div>\n",
       "<style scoped>\n",
       "    .dataframe tbody tr th:only-of-type {\n",
       "        vertical-align: middle;\n",
       "    }\n",
       "\n",
       "    .dataframe tbody tr th {\n",
       "        vertical-align: top;\n",
       "    }\n",
       "\n",
       "    .dataframe thead th {\n",
       "        text-align: right;\n",
       "    }\n",
       "</style>\n",
       "<table border=\"1\" class=\"dataframe\">\n",
       "  <thead>\n",
       "    <tr style=\"text-align: right;\">\n",
       "      <th></th>\n",
       "      <th>comment</th>\n",
       "      <th>toxic</th>\n",
       "    </tr>\n",
       "  </thead>\n",
       "  <tbody>\n",
       "    <tr>\n",
       "      <th>2114</th>\n",
       "      <td>Теперь хохлов бкдкт травить анашой, чтобы не п...</td>\n",
       "      <td>1.0</td>\n",
       "    </tr>\n",
       "    <tr>\n",
       "      <th>1370</th>\n",
       "      <td>Смерть достойная хохла\\n</td>\n",
       "      <td>1.0</td>\n",
       "    </tr>\n",
       "    <tr>\n",
       "      <th>1383</th>\n",
       "      <td>скажите, а что заставляет пользоваться подобны...</td>\n",
       "      <td>0.0</td>\n",
       "    </tr>\n",
       "    <tr>\n",
       "      <th>2052</th>\n",
       "      <td>У хохлов вообще сказок нет. Ну сказка про дене...</td>\n",
       "      <td>1.0</td>\n",
       "    </tr>\n",
       "    <tr>\n",
       "      <th>2608</th>\n",
       "      <td>Я Курицына никогда не ебал, но в этот раз точн...</td>\n",
       "      <td>1.0</td>\n",
       "    </tr>\n",
       "    <tr>\n",
       "      <th>98</th>\n",
       "      <td>Весело ломать людям жизни ? В такие моменты я ...</td>\n",
       "      <td>1.0</td>\n",
       "    </tr>\n",
       "    <tr>\n",
       "      <th>2629</th>\n",
       "      <td>Президент США Дональд Трамп заявил, что всерье...</td>\n",
       "      <td>0.0</td>\n",
       "    </tr>\n",
       "    <tr>\n",
       "      <th>2635</th>\n",
       "      <td>Ебать бомбит прокладки\\n</td>\n",
       "      <td>1.0</td>\n",
       "    </tr>\n",
       "    <tr>\n",
       "      <th>1068</th>\n",
       "      <td>Перепутали в роддоме негритенка, хохла и русск...</td>\n",
       "      <td>1.0</td>\n",
       "    </tr>\n",
       "    <tr>\n",
       "      <th>1228</th>\n",
       "      <td>Гандоны - это ты и твой хозяин - пидорас-приго...</td>\n",
       "      <td>1.0</td>\n",
       "    </tr>\n",
       "  </tbody>\n",
       "</table>\n",
       "</div>"
      ],
      "text/plain": [
       "                                                comment  toxic\n",
       "2114  Теперь хохлов бкдкт травить анашой, чтобы не п...    1.0\n",
       "1370                           Смерть достойная хохла\\n    1.0\n",
       "1383  скажите, а что заставляет пользоваться подобны...    0.0\n",
       "2052  У хохлов вообще сказок нет. Ну сказка про дене...    1.0\n",
       "2608  Я Курицына никогда не ебал, но в этот раз точн...    1.0\n",
       "98    Весело ломать людям жизни ? В такие моменты я ...    1.0\n",
       "2629  Президент США Дональд Трамп заявил, что всерье...    0.0\n",
       "2635                           Ебать бомбит прокладки\\n    1.0\n",
       "1068  Перепутали в роддоме негритенка, хохла и русск...    1.0\n",
       "1228  Гандоны - это ты и твой хозяин - пидорас-приго...    1.0"
      ]
     },
     "execution_count": 908,
     "metadata": {},
     "output_type": "execute_result"
    }
   ],
   "source": [
    "top10 = test.iloc[np.argsort(probas_KN[:, 1])[-10:]]\n",
    "top10"
   ]
  },
  {
   "cell_type": "code",
   "execution_count": 909,
   "id": "79206374",
   "metadata": {},
   "outputs": [
    {
     "name": "stdout",
     "output_type": "stream",
     "text": [
      "скажите, а что заставляет пользоваться подобными мемами фекально-дендроидной архитектуры?\n",
      "\n",
      "Президент США Дональд Трамп заявил, что всерьез рассматривает возможность членства Бразилии в НАТО. Об этом он рассказал на совместной с бразильским коллегой Жаиром Болсонару пресс-конференции, передает Reuters. Вашингтон намерен объявить Бразилию главным стратегическим союзником среди государств, не входящих в НАТО, и допускает возможность членства Бразилии в альянсе. Это значительно укрепит безопасность и сотрудничество между нашими странами , объяснил американский лидер. Кроме того, Трамп поддерживает желание Болсонару присоединиться к Организации экономического сотрудничества и развития. По словам американского лидера, отношения между странами никогда не были настолько близкими . Ранее Болсонару призвал очистить Бразилию от грязных левых взглядов . Отмечалось, что поездка бразильского лидера в Вашингтон должна продемонстрировать приверженность южноамериканской страны США, что является отклонением от традиционной дипломатической линии страны. Болсонару стал президентом Бразилии 28 октября 2018 года. Он отмечал, что планирует изменить направление движения страны и сближаться с развитыми экономиками, а не региональными союзниками.\n",
      "\n"
     ]
    }
   ],
   "source": [
    "for i in top10[top10['toxic'] == 0]['comment']:\n",
    "    print(i)"
   ]
  },
  {
   "cell_type": "markdown",
   "id": "936c7a00",
   "metadata": {},
   "source": [
    "Сложный случай. Во втором отзые совсем не могу понять, откуда токсичность (только если тематика политики опять же). В первлм всё-таки есть предположения, но тоже вряд ли модель опиралась на эту лексику."
   ]
  },
  {
   "cell_type": "markdown",
   "id": "68324753",
   "metadata": {},
   "source": [
    "## *Задание 4 (2 балла)"
   ]
  },
  {
   "cell_type": "markdown",
   "id": "c7794f97",
   "metadata": {},
   "source": [
    "Для классификаторов LogisticRegression, Decision Trees, Naive Bayes, Random Forest найдите способ извлечь важность признаков для предсказания токсичного класса. Сопоставьте полученные числа со словами (или нграммами) в словаре и найдите топ - 5 \"токсичных\" слов для каждого из классификаторов. \n",
    "\n",
    "Важное требование: в топе не должно быть стоп-слов. Для этого вам нужно будет правильным образом настроить векторизацию."
   ]
  },
  {
   "cell_type": "code",
   "execution_count": 817,
   "id": "eaf9062a",
   "metadata": {},
   "outputs": [],
   "source": [
    "count_vectorizer = CountVectorizer(stop_words=stopwords.words('russian') + [\"это\"], max_df=0.5)"
   ]
  },
  {
   "cell_type": "code",
   "execution_count": 818,
   "id": "1621065d",
   "metadata": {},
   "outputs": [],
   "source": [
    "X = count_vectorizer.fit_transform(train.comment)"
   ]
  },
  {
   "cell_type": "code",
   "execution_count": 819,
   "id": "fddb1907",
   "metadata": {},
   "outputs": [],
   "source": [
    "X_test = count_vectorizer.transform(test.comment)"
   ]
  },
  {
   "cell_type": "code",
   "execution_count": 820,
   "id": "974699c8",
   "metadata": {},
   "outputs": [],
   "source": [
    "y = train.toxic.values\n",
    "y_test = test.toxic.values"
   ]
  },
  {
   "cell_type": "markdown",
   "id": "30d3bdf1",
   "metadata": {},
   "source": [
    "#### Логистическая регрессия"
   ]
  },
  {
   "cell_type": "code",
   "execution_count": 821,
   "id": "38bf720d",
   "metadata": {},
   "outputs": [],
   "source": [
    "clf_LR = LogisticRegression(C=0.1, class_weight='balanced')"
   ]
  },
  {
   "cell_type": "code",
   "execution_count": 822,
   "id": "55cc011c",
   "metadata": {},
   "outputs": [
    {
     "data": {
      "text/plain": [
       "LogisticRegression(C=0.1, class_weight='balanced')"
      ]
     },
     "execution_count": 822,
     "metadata": {},
     "output_type": "execute_result"
    }
   ],
   "source": [
    "clf_LR.fit(X, y)"
   ]
  },
  {
   "cell_type": "code",
   "execution_count": 823,
   "id": "ccbe20af",
   "metadata": {},
   "outputs": [
    {
     "data": {
      "text/plain": [
       "array([[ 0.50383534,  0.33069627, -0.03772816, ..., -0.04800185,\n",
       "        -0.0134363 , -0.00685607]])"
      ]
     },
     "execution_count": 823,
     "metadata": {},
     "output_type": "execute_result"
    }
   ],
   "source": [
    "clf_LR.coef_"
   ]
  },
  {
   "cell_type": "code",
   "execution_count": 824,
   "id": "499e9861",
   "metadata": {},
   "outputs": [
    {
     "name": "stdout",
     "output_type": "stream",
     "text": [
      "['лол' 'тупой' 'сука' 'нахуй' 'пиздец' 'дебил' 'блядь' 'тебе' 'хохлов'\n",
      " 'хохлы']\n"
     ]
    }
   ],
   "source": [
    "print(np.take(count_vectorizer.get_feature_names(), clf_LR.coef_.argsort()[0][-10:]))"
   ]
  },
  {
   "cell_type": "markdown",
   "id": "19115cf1",
   "metadata": {},
   "source": [
    "#### Decision Trees"
   ]
  },
  {
   "cell_type": "code",
   "execution_count": 825,
   "id": "9e02f3f9",
   "metadata": {},
   "outputs": [
    {
     "data": {
      "text/plain": [
       "DecisionTreeClassifier(class_weight='balanced', max_depth=8)"
      ]
     },
     "execution_count": 825,
     "metadata": {},
     "output_type": "execute_result"
    }
   ],
   "source": [
    "clf_trees = DecisionTreeClassifier(max_depth=8, class_weight='balanced')\n",
    "clf_trees.fit(X, y)"
   ]
  },
  {
   "cell_type": "code",
   "execution_count": 826,
   "id": "844a6dd2",
   "metadata": {},
   "outputs": [
    {
     "data": {
      "text/plain": [
       "array([0., 0., 0., ..., 0., 0., 0.])"
      ]
     },
     "execution_count": 826,
     "metadata": {},
     "output_type": "execute_result"
    }
   ],
   "source": [
    "clf_trees.feature_importances_"
   ]
  },
  {
   "cell_type": "code",
   "execution_count": 827,
   "id": "73da2cb2",
   "metadata": {},
   "outputs": [
    {
     "name": "stdout",
     "output_type": "stream",
     "text": [
      "['фотографии' 'говорит' 'блядь' 'года' 'например' 'нахуй' 'хохлов' 'очень'\n",
      " 'тебе' 'хохлы']\n"
     ]
    }
   ],
   "source": [
    "print(np.take(count_vectorizer.get_feature_names(), clf_trees.feature_importances_.argsort()[-10:]))"
   ]
  },
  {
   "cell_type": "markdown",
   "id": "c8e97718",
   "metadata": {},
   "source": [
    "#### Naive Bayes"
   ]
  },
  {
   "cell_type": "code",
   "execution_count": 828,
   "id": "c110afb4",
   "metadata": {},
   "outputs": [
    {
     "data": {
      "text/plain": [
       "MultinomialNB()"
      ]
     },
     "execution_count": 828,
     "metadata": {},
     "output_type": "execute_result"
    }
   ],
   "source": [
    "clf_NB = MultinomialNB(alpha=1., fit_prior=True)\n",
    "clf_NB.fit(X, y)"
   ]
  },
  {
   "cell_type": "code",
   "execution_count": 829,
   "id": "7ccf4d51",
   "metadata": {},
   "outputs": [],
   "source": [
    "pos_class = clf_NB.feature_log_prob_[1, :].argsort()[::-1]"
   ]
  },
  {
   "cell_type": "code",
   "execution_count": 830,
   "id": "e45df39d",
   "metadata": {
    "scrolled": true
   },
   "outputs": [
    {
     "name": "stdout",
     "output_type": "stream",
     "text": [
      "['просто' 'тебе' 'всё' 'вообще' 'почему' 'ещё' 'хохлы' 'нахуй' 'лет'\n",
      " 'хохлов']\n"
     ]
    }
   ],
   "source": [
    "print(np.take(count_vectorizer.get_feature_names(), pos_class[:10]))"
   ]
  },
  {
   "cell_type": "markdown",
   "id": "ea897cd0",
   "metadata": {},
   "source": [
    "#### Random Forest"
   ]
  },
  {
   "cell_type": "code",
   "execution_count": 831,
   "id": "a0969e23",
   "metadata": {},
   "outputs": [
    {
     "data": {
      "text/plain": [
       "RandomForestClassifier(max_depth=20)"
      ]
     },
     "execution_count": 831,
     "metadata": {},
     "output_type": "execute_result"
    }
   ],
   "source": [
    "clf_rf = RandomForestClassifier(n_estimators=100, max_depth=20)\n",
    "clf_rf.fit(X, y)"
   ]
  },
  {
   "cell_type": "code",
   "execution_count": 832,
   "id": "c328dc9d",
   "metadata": {},
   "outputs": [
    {
     "name": "stdout",
     "output_type": "stream",
     "text": [
      "['лол' 'русских' 'похуй' 'пиздец' 'тупые' 'тупой' 'хохлов' 'блядь' 'тебе'\n",
      " 'хохлы']\n"
     ]
    }
   ],
   "source": [
    "print(np.take(count_vectorizer.get_feature_names(), clf_rf.feature_importances_.argsort()[-10:]))"
   ]
  }
 ],
 "metadata": {
  "kernelspec": {
   "display_name": "Python 3",
   "language": "python",
   "name": "python3"
  },
  "language_info": {
   "codemirror_mode": {
    "name": "ipython",
    "version": 3
   },
   "file_extension": ".py",
   "mimetype": "text/x-python",
   "name": "python",
   "nbconvert_exporter": "python",
   "pygments_lexer": "ipython3",
   "version": "3.8.8"
  }
 },
 "nbformat": 4,
 "nbformat_minor": 5
}
